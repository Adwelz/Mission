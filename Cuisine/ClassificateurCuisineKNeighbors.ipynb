{
 "cells": [
  {
   "cell_type": "code",
   "execution_count": 540,
   "metadata": {},
   "outputs": [],
   "source": [
    "import pandas as pd\n",
    "import numpy as np\n",
    "import seaborn as sns\n",
    "import matplotlib as mpl\n",
    "import matplotlib.pyplot as plt\n",
    "from functools import reduce"
   ]
  },
  {
   "cell_type": "code",
   "execution_count": 516,
   "metadata": {},
   "outputs": [
    {
     "name": "stdout",
     "output_type": "stream",
     "text": [
      "                  timestamp  coffe_maker\n",
      "1009    2020-03-24 12:21:59          1.0\n",
      "1012    2020-03-24 12:25:00          1.0\n",
      "1083    2020-03-24 13:36:00          1.0\n",
      "2414    2020-03-25 11:47:00          1.0\n",
      "5371    2020-03-27 13:05:59          1.0\n",
      "...                     ...          ...\n",
      "167183  2020-08-13 08:06:00          1.0\n",
      "170125  2020-08-15 09:16:00          1.0\n",
      "182119  2020-08-23 17:26:00          1.0\n",
      "182120  2020-08-23 17:26:59          1.0\n",
      "184459  2020-08-25 08:25:00          1.0\n",
      "\n",
      "[114 rows x 2 columns]\n"
     ]
    },
    {
     "name": "stderr",
     "output_type": "stream",
     "text": [
      "C:\\Users\\Public\\Documents\\Wondershare\\CreatorTemp/ipykernel_11280/1329967499.py:15: FutureWarning: In a future version of pandas all arguments of DataFrame.drop except for the argument 'labels' will be keyword-only\n",
      "  data_machine_caffe.drop(index_with_nan,0, inplace=True)\n"
     ]
    }
   ],
   "source": [
    "data_machine_caffe =pd.read_csv(\"coffe_maker.csv\", sep=',', header=0, names=[\"value_id\", \"sensor_id\", \"timestamp\", \"value\"])\n",
    "data_machine_caffe.drop(columns=[\"value_id\", \"sensor_id\"],inplace=True)\n",
    "data_machine_caffe.rename(columns = {'value': 'coffe_maker'}, inplace = True)\n",
    "max_coffe=data_machine_caffe['coffe_maker'].max()\n",
    "\n",
    "\n",
    "\n",
    "#data_machine_caffe.drop(columns=[\"coffe_maker\"],inplace=True)\n",
    "\n",
    "\n",
    "seuil_coffe=(1/3)*max_coffe\n",
    "data_machine_caffe['coffe_maker'] = data_machine_caffe['coffe_maker'].apply(lambda x: 1 if x >seuil_coffe else 0)\n",
    "data_machine_caffe=data_machine_caffe[data_machine_caffe!=0]\n",
    "index_with_nan = data_machine_caffe.index[data_machine_caffe.isnull().any(axis=1)]\n",
    "data_machine_caffe.drop(index_with_nan,0, inplace=True)\n",
    "\n",
    "print(data_machine_caffe)"
   ]
  },
  {
   "cell_type": "code",
   "execution_count": 517,
   "metadata": {},
   "outputs": [
    {
     "name": "stdout",
     "output_type": "stream",
     "text": [
      "                  timestamp  frigo\n",
      "17      2020-02-27 18:25:00    1.0\n",
      "179     2020-02-27 21:07:00    1.0\n",
      "1256    2020-02-28 15:03:00    1.0\n",
      "1628    2020-02-28 21:15:00    1.0\n",
      "1811    2020-02-29 00:18:00    1.0\n",
      "...                     ...    ...\n",
      "239827  2020-08-22 11:32:00    1.0\n",
      "241201  2020-08-23 10:25:00    1.0\n",
      "241203  2020-08-23 10:27:00    1.0\n",
      "241214  2020-08-23 10:38:00    1.0\n",
      "241794  2020-08-23 20:17:00    1.0\n",
      "\n",
      "[4520 rows x 2 columns]\n"
     ]
    },
    {
     "name": "stderr",
     "output_type": "stream",
     "text": [
      "C:\\Users\\Public\\Documents\\Wondershare\\CreatorTemp/ipykernel_11280/2011179942.py:13: FutureWarning: In a future version of pandas all arguments of DataFrame.drop except for the argument 'labels' will be keyword-only\n",
      "  data_frigo.drop(index_with_nan,0, inplace=True)\n"
     ]
    }
   ],
   "source": [
    "data_frigo =pd.read_csv(\"frigo.csv\", sep=',', header=0, names=[\"value_id\", \"sensor_id\", \"timestamp\", \"value\"])\n",
    "data_frigo.drop(columns=[\"value_id\", \"sensor_id\"],inplace=True)\n",
    "data_frigo.rename(columns = {'value': 'frigo'}, inplace = True)\n",
    "\n",
    "\n",
    "\n",
    "max_frigo=data_frigo['frigo'].max()\n",
    "seuil_frigo=(1/3)*max_frigo\n",
    "data_frigo['frigo'] = data_frigo['frigo'].apply(lambda x: 1 if x >seuil_frigo else 0)\n",
    "\n",
    "data_frigo=data_frigo[data_frigo!=0]\n",
    "index_with_nan = data_frigo.index[data_frigo.isnull().any(axis=1)]\n",
    "data_frigo.drop(index_with_nan,0, inplace=True)\n",
    "print(data_frigo)"
   ]
  },
  {
   "cell_type": "code",
   "execution_count": 518,
   "metadata": {},
   "outputs": [
    {
     "name": "stdout",
     "output_type": "stream",
     "text": [
      "                  timestamp  dishwasher\n",
      "1039    2020-03-24 12:51:59         1.0\n",
      "1040    2020-03-24 12:53:00         1.0\n",
      "1041    2020-03-24 12:54:00         1.0\n",
      "1051    2020-03-24 13:04:00         1.0\n",
      "1052    2020-03-24 13:05:00         1.0\n",
      "...                     ...         ...\n",
      "181508  2020-08-23 21:21:00         1.0\n",
      "181559  2020-08-23 22:11:59         1.0\n",
      "181560  2020-08-23 22:13:00         1.0\n",
      "181561  2020-08-23 22:14:00         1.0\n",
      "181562  2020-08-23 22:15:00         1.0\n",
      "\n",
      "[749 rows x 2 columns]\n"
     ]
    },
    {
     "name": "stderr",
     "output_type": "stream",
     "text": [
      "C:\\Users\\Public\\Documents\\Wondershare\\CreatorTemp/ipykernel_11280/3398463466.py:12: FutureWarning: In a future version of pandas all arguments of DataFrame.drop except for the argument 'labels' will be keyword-only\n",
      "  data_dishwasher.drop(index_with_nan,0, inplace=True)\n"
     ]
    }
   ],
   "source": [
    "data_dishwasher =pd.read_csv(\"k_dishwasher_current.csv\", sep=',', header=0, names=[\"value_id\", \"sensor_id\", \"timestamp\", \"value\"])\n",
    "data_dishwasher.drop(columns=[\"value_id\", \"sensor_id\"],inplace=True)\n",
    "data_dishwasher.rename(columns = {'value': 'dishwasher'}, inplace = True)\n",
    "\n",
    "\n",
    "\n",
    "max_dishwasher=data_dishwasher['dishwasher'].max()\n",
    "seuil_dishwasher=(1/3)*max_dishwasher\n",
    "data_dishwasher['dishwasher'] = data_dishwasher['dishwasher'].apply(lambda x: 1 if x >seuil_dishwasher else 0)\n",
    "data_dishwasher=data_dishwasher[data_dishwasher!=0]\n",
    "index_with_nan = data_dishwasher.index[data_dishwasher.isnull().any(axis=1)]\n",
    "data_dishwasher.drop(index_with_nan,0, inplace=True)\n",
    "print(data_dishwasher)"
   ]
  },
  {
   "cell_type": "code",
   "execution_count": 519,
   "metadata": {},
   "outputs": [
    {
     "name": "stdout",
     "output_type": "stream",
     "text": [
      "                  timestamp  microwave\n",
      "2296    2020-04-15 14:21:00        1.0\n",
      "2341    2020-04-15 15:06:00        1.0\n",
      "2343    2020-04-15 15:08:00        1.0\n",
      "2349    2020-04-15 15:13:59        1.0\n",
      "2350    2020-04-15 15:14:59        1.0\n",
      "3101    2020-04-17 11:44:10        1.0\n",
      "3901    2020-04-18 01:04:00        1.0\n",
      "3902    2020-04-18 01:04:29        1.0\n",
      "9742    2020-04-22 11:15:00        1.0\n",
      "9743    2020-04-22 11:16:00        1.0\n",
      "20677   2020-04-30 12:34:51        1.0\n",
      "21976   2020-05-01 12:19:00        1.0\n",
      "52403   2020-05-23 15:26:59        1.0\n",
      "52405   2020-05-23 15:28:59        1.0\n",
      "52880   2020-05-23 23:23:59        1.0\n",
      "52881   2020-05-23 23:24:59        1.0\n",
      "53857   2020-05-24 15:41:00        1.0\n",
      "54932   2020-05-25 09:35:00        1.0\n",
      "54933   2020-05-25 09:35:59        1.0\n",
      "54936   2020-05-25 09:39:00        1.0\n",
      "67624   2020-06-03 12:10:00        1.0\n",
      "67625   2020-06-03 12:10:59        1.0\n",
      "67626   2020-06-03 12:11:59        1.0\n",
      "67627   2020-06-03 12:12:59        1.0\n",
      "74921   2020-06-08 13:47:00        1.0\n",
      "75026   2020-06-08 15:32:00        1.0\n",
      "75217   2020-06-08 18:42:19        1.0\n",
      "80284   2020-06-12 12:23:00        1.0\n",
      "80285   2020-06-12 12:23:59        1.0\n",
      "103216  2020-07-06 19:21:00        1.0\n",
      "103217  2020-07-06 19:22:00        1.0\n",
      "103462  2020-07-06 23:26:51        1.0\n",
      "104479  2020-07-07 16:23:59        1.0\n",
      "104480  2020-07-07 16:25:00        1.0\n",
      "104550  2020-07-07 17:35:00        1.0\n",
      "104551  2020-07-07 17:36:00        1.0\n",
      "104689  2020-07-07 19:54:00        1.0\n",
      "109207  2020-07-11 01:53:59        1.0\n",
      "109208  2020-07-11 01:55:00        1.0\n",
      "109209  2020-07-11 01:56:00        1.0\n",
      "111661  2020-07-12 19:06:59        1.0\n",
      "111662  2020-07-12 19:07:58        1.0\n",
      "111663  2020-07-12 19:09:00        1.0\n",
      "111665  2020-07-12 19:11:00        1.0\n",
      "111666  2020-07-12 19:12:00        1.0\n",
      "118999  2020-07-17 22:37:00        1.0\n",
      "119000  2020-07-17 22:38:00        1.0\n",
      "123176  2020-07-20 20:14:59        1.0\n",
      "124500  2020-07-21 18:21:59        1.0\n",
      "124501  2020-07-21 18:23:00        1.0\n",
      "127230  2020-07-23 15:52:59        1.0\n",
      "127322  2020-07-23 17:25:00        1.0\n",
      "127323  2020-07-23 17:26:00        1.0\n",
      "127324  2020-07-23 17:26:59        1.0\n",
      "130601  2020-07-26 00:03:59        1.0\n",
      "132821  2020-07-27 13:02:45        1.0\n"
     ]
    },
    {
     "name": "stderr",
     "output_type": "stream",
     "text": [
      "C:\\Users\\Public\\Documents\\Wondershare\\CreatorTemp/ipykernel_11280/1063116117.py:7: FutureWarning: In a future version of pandas all arguments of DataFrame.drop except for the argument 'labels' will be keyword-only\n",
      "  data_microwave.drop(index_with_nan,0, inplace=True)\n",
      "C:\\Users\\Public\\Documents\\Wondershare\\CreatorTemp/ipykernel_11280/1063116117.py:15: FutureWarning: In a future version of pandas all arguments of DataFrame.drop except for the argument 'labels' will be keyword-only\n",
      "  data_microwave.drop(index_with_nan,0, inplace=True)\n"
     ]
    }
   ],
   "source": [
    "data_microwave =pd.read_csv(\"k_microwave_current.csv\", sep=',', header=0, names=[\"value_id\", \"sensor_id\", \"timestamp\", \"value\"])\n",
    "data_microwave.drop(columns=[\"value_id\", \"sensor_id\"],inplace=True)\n",
    "data_microwave.rename(columns = {'value': 'microwave'}, inplace = True)\n",
    "\n",
    "data_microwave=data_microwave[data_microwave!=0]\n",
    "index_with_nan = data_microwave.index[data_microwave.isnull().any(axis=1)]\n",
    "data_microwave.drop(index_with_nan,0, inplace=True)\n",
    "\n",
    "\n",
    "max_microwave=data_microwave['microwave'].max()\n",
    "seuil_microwave=(1/3)*max_microwave\n",
    "data_microwave['microwave'] = data_microwave['microwave'].apply(lambda x: 1 if x >seuil_microwave else 0)\n",
    "data_microwave=data_microwave[data_microwave!=0]\n",
    "index_with_nan = data_microwave.index[data_microwave.isnull().any(axis=1)]\n",
    "data_microwave.drop(index_with_nan,0, inplace=True)\n",
    "print(data_microwave)"
   ]
  },
  {
   "cell_type": "code",
   "execution_count": 521,
   "metadata": {},
   "outputs": [
    {
     "name": "stdout",
     "output_type": "stream",
     "text": [
      "                  timestamp  sandwichmaker\n",
      "92      2020-03-23 21:05:00            1.0\n",
      "93      2020-03-23 21:06:00            1.0\n",
      "94      2020-03-23 21:07:00            1.0\n",
      "95      2020-03-23 21:08:00            1.0\n",
      "1277    2020-03-24 17:03:00            1.0\n",
      "...                     ...            ...\n",
      "177871  2020-08-20 10:08:59            1.0\n",
      "182208  2020-08-23 10:26:00            1.0\n",
      "182209  2020-08-23 10:27:00            1.0\n",
      "182210  2020-08-23 10:27:59            1.0\n",
      "182217  2020-08-23 10:35:00            1.0\n",
      "\n",
      "[250 rows x 2 columns]\n"
     ]
    },
    {
     "name": "stderr",
     "output_type": "stream",
     "text": [
      "C:\\Users\\Public\\Documents\\Wondershare\\CreatorTemp/ipykernel_11280/1570717967.py:13: FutureWarning: In a future version of pandas all arguments of DataFrame.drop except for the argument 'labels' will be keyword-only\n",
      "  data_sandwichmacker.drop(index_with_nan,0, inplace=True)\n"
     ]
    }
   ],
   "source": [
    "data_sandwichmacker =pd.read_csv(\"k_sandwichmaker_current.csv\", sep=',', header=0, names=[\"value_id\", \"sensor_id\", \"timestamp\", \"value\"])\n",
    "data_sandwichmacker.drop(columns=[\"value_id\", \"sensor_id\"],inplace=True)\n",
    "data_sandwichmacker.rename(columns = {'value': 'sandwichmaker'}, inplace = True)\n",
    "\n",
    "\n",
    "\n",
    "max_sandwichmaker=data_sandwichmacker['sandwichmaker'].max()\n",
    "seuil_sandwichmaker=(1/3)*max_sandwichmaker\n",
    "data_sandwichmacker['sandwichmaker'] = data_sandwichmacker['sandwichmaker'].apply(lambda x: 1 if x >seuil_sandwichmaker else 0)\n",
    "\n",
    "data_sandwichmacker=data_sandwichmacker[data_sandwichmacker!=0]\n",
    "index_with_nan = data_sandwichmacker.index[data_sandwichmacker.isnull().any(axis=1)]\n",
    "data_sandwichmacker.drop(index_with_nan,0, inplace=True)\n",
    "\n",
    "print(data_sandwichmacker)"
   ]
  },
  {
   "cell_type": "code",
   "execution_count": 522,
   "metadata": {},
   "outputs": [
    {
     "name": "stdout",
     "output_type": "stream",
     "text": [
      "                  timestamp  kettle\n",
      "39126   2020-05-05 18:05:59     1.0\n",
      "39127   2020-05-05 18:07:00     1.0\n",
      "39443   2020-05-05 23:24:00     1.0\n",
      "40328   2020-05-06 22:31:59     1.0\n",
      "40329   2020-05-06 22:33:00     1.0\n",
      "...                     ...     ...\n",
      "164885  2020-08-11 11:15:00     1.0\n",
      "182435  2020-08-23 19:54:00     1.0\n",
      "182436  2020-08-23 19:54:59     1.0\n",
      "182437  2020-08-23 19:56:00     1.0\n",
      "182438  2020-08-23 19:57:00     1.0\n",
      "\n",
      "[112 rows x 2 columns]\n"
     ]
    },
    {
     "name": "stderr",
     "output_type": "stream",
     "text": [
      "C:\\Users\\Public\\Documents\\Wondershare\\CreatorTemp/ipykernel_11280/1571204624.py:13: FutureWarning: In a future version of pandas all arguments of DataFrame.drop except for the argument 'labels' will be keyword-only\n",
      "  data_kettle.drop(index_with_nan,0, inplace=True)\n"
     ]
    }
   ],
   "source": [
    "data_kettle =pd.read_csv(\"k_kettle_current.csv\", sep=',', header=0, names=[\"value_id\", \"sensor_id\", \"timestamp\", \"value\"])\n",
    "data_kettle.drop(columns=[\"value_id\", \"sensor_id\"],inplace=True)\n",
    "data_kettle.rename(columns = {'value': 'kettle'}, inplace = True)\n",
    "\n",
    "\n",
    "\n",
    "\n",
    "max_kettle=data_kettle['kettle'].max()\n",
    "seuil_kettle=(1/3)*max_kettle\n",
    "data_kettle['kettle'] = data_kettle['kettle'].apply(lambda x: 1 if x >seuil_kettle else 0)\n",
    "data_kettle=data_kettle[data_kettle!=0]\n",
    "index_with_nan = data_kettle.index[data_kettle.isnull().any(axis=1)]\n",
    "data_kettle.drop(index_with_nan,0, inplace=True)\n",
    "print(data_kettle)"
   ]
  },
  {
   "cell_type": "code",
   "execution_count": 523,
   "metadata": {},
   "outputs": [
    {
     "name": "stdout",
     "output_type": "stream",
     "text": [
      "                 timestamp  ambience\n",
      "619    2020-02-26 10:19:00       1.0\n",
      "620    2020-02-26 10:20:00       1.0\n",
      "622    2020-02-26 10:22:00       1.0\n",
      "625    2020-02-26 10:25:00       1.0\n",
      "628    2020-02-26 10:28:00       1.0\n",
      "...                    ...       ...\n",
      "30849  2020-03-19 00:21:00       1.0\n",
      "30851  2020-03-19 00:23:00       1.0\n",
      "30852  2020-03-19 00:24:00       1.0\n",
      "30853  2020-03-19 00:25:00       1.0\n",
      "30857  2020-03-19 00:29:00       1.0\n",
      "\n",
      "[831 rows x 2 columns]\n"
     ]
    },
    {
     "name": "stderr",
     "output_type": "stream",
     "text": [
      "C:\\Users\\Public\\Documents\\Wondershare\\CreatorTemp/ipykernel_11280/3306889702.py:12: FutureWarning: In a future version of pandas all arguments of DataFrame.drop except for the argument 'labels' will be keyword-only\n",
      "  data_ambience.drop(index_with_nan,0, inplace=True)\n"
     ]
    },
    {
     "data": {
      "text/plain": [
       "timestamp     object\n",
       "ambience     float64\n",
       "dtype: object"
      ]
     },
     "execution_count": 523,
     "metadata": {},
     "output_type": "execute_result"
    }
   ],
   "source": [
    "data_ambience =pd.read_csv(\"k_ambience_motion.csv\", sep=',', header=0, names=[\"value_id\", \"sensor_id\", \"timestamp\", \"value\"])\n",
    "data_ambience.drop(columns=[\"value_id\", \"sensor_id\"],inplace=True)\n",
    "data_ambience.rename(columns = {'value': 'ambience'}, inplace = True)\n",
    "\n",
    "\n",
    "\n",
    "max_ambience=data_ambience['ambience'].max()\n",
    "seuil_ambience=(1/3)*max_ambience\n",
    "data_ambience['ambience'] = data_ambience['ambience'].apply(lambda x: 1 if x >seuil_ambience else 0)\n",
    "data_ambience=data_ambience[data_ambience!=0]\n",
    "index_with_nan = data_ambience.index[data_ambience.isnull().any(axis=1)]\n",
    "data_ambience.drop(index_with_nan,0, inplace=True)\n",
    "print(data_ambience)\n",
    "data_ambience.dtypes"
   ]
  },
  {
   "cell_type": "code",
   "execution_count": 524,
   "metadata": {},
   "outputs": [
    {
     "name": "stdout",
     "output_type": "stream",
     "text": [
      "                timestamp  stove_light\n",
      "0     2020-02-26 00:00:00       1024.0\n",
      "1     2020-02-26 00:01:00       1024.0\n",
      "2     2020-02-26 00:02:00       1024.0\n",
      "3     2020-02-26 00:03:00       1024.0\n",
      "4     2020-02-26 00:04:00       1024.0\n",
      "...                   ...          ...\n",
      "4351  2020-02-29 00:32:00        234.0\n",
      "4352  2020-02-29 00:33:00        234.0\n",
      "4353  2020-02-29 00:34:00        224.0\n",
      "4354  2020-02-29 00:35:00       1024.0\n",
      "4355      2020-02-29 00:3          NaN\n",
      "\n",
      "[4356 rows x 2 columns]\n",
      "                timestamp  stove_light\n",
      "441   2020-02-26 07:21:00          1.0\n",
      "442   2020-02-26 07:22:00          1.0\n",
      "443   2020-02-26 07:23:00          1.0\n",
      "444   2020-02-26 07:24:00          1.0\n",
      "445   2020-02-26 07:25:00          1.0\n",
      "...                   ...          ...\n",
      "4350  2020-02-29 00:30:59          1.0\n",
      "4351  2020-02-29 00:32:00          1.0\n",
      "4352  2020-02-29 00:33:00          1.0\n",
      "4353  2020-02-29 00:34:00          1.0\n",
      "4355      2020-02-29 00:3          1.0\n",
      "\n",
      "[2142 rows x 2 columns]\n"
     ]
    },
    {
     "name": "stderr",
     "output_type": "stream",
     "text": [
      "C:\\Users\\Public\\Documents\\Wondershare\\CreatorTemp/ipykernel_11280/1945336454.py:11: FutureWarning: In a future version of pandas all arguments of DataFrame.drop except for the argument 'labels' will be keyword-only\n",
      "  data_stove_light.drop(index_with_nan,0, inplace=True)\n"
     ]
    },
    {
     "data": {
      "text/plain": [
       "441     1\n",
       "442     1\n",
       "443     1\n",
       "444     1\n",
       "445     1\n",
       "       ..\n",
       "4350    1\n",
       "4351    1\n",
       "4352    1\n",
       "4353    1\n",
       "4355    1\n",
       "Name: stove_light, Length: 2142, dtype: int32"
      ]
     },
     "execution_count": 524,
     "metadata": {},
     "output_type": "execute_result"
    }
   ],
   "source": [
    "data_stove_light =pd.read_csv(\"k_stove_light.csv\", sep=',', header=0, names=[\"value_id\", \"sensor_id\", \"timestamp\", \"value\"])\n",
    "data_stove_light.drop(columns=[\"value_id\", \"sensor_id\"],inplace=True)\n",
    "data_stove_light.rename(columns = {'value': 'stove_light'}, inplace = True)\n",
    "print(data_stove_light)\n",
    "\n",
    "max_stove_light=data_stove_light['stove_light'].max()\n",
    "seuil_stove_light=(2/3)*max_stove_light\n",
    "data_stove_light['stove_light'] = data_stove_light['stove_light'].apply(lambda x: 0 if x >seuil_stove_light else 1)\n",
    "data_stove_light=data_stove_light[data_stove_light!=0]\n",
    "index_with_nan = data_stove_light.index[data_stove_light.isnull().any(axis=1)]\n",
    "data_stove_light.drop(index_with_nan,0, inplace=True)\n",
    "print(data_stove_light)\n",
    "data_stove_light['stove_light'].astype(int)"
   ]
  },
  {
   "cell_type": "code",
   "execution_count": 525,
   "metadata": {},
   "outputs": [],
   "source": [
    "data_frames=[data_frigo,data_dishwasher,data_kettle,data_machine_caffe,data_sandwichmacker,data_microwave,data_stove_light]"
   ]
  },
  {
   "cell_type": "code",
   "execution_count": 526,
   "metadata": {},
   "outputs": [
    {
     "data": {
      "text/html": [
       "<div>\n",
       "<style scoped>\n",
       "    .dataframe tbody tr th:only-of-type {\n",
       "        vertical-align: middle;\n",
       "    }\n",
       "\n",
       "    .dataframe tbody tr th {\n",
       "        vertical-align: top;\n",
       "    }\n",
       "\n",
       "    .dataframe thead th {\n",
       "        text-align: right;\n",
       "    }\n",
       "</style>\n",
       "<table border=\"1\" class=\"dataframe\">\n",
       "  <thead>\n",
       "    <tr style=\"text-align: right;\">\n",
       "      <th></th>\n",
       "      <th>timestamp</th>\n",
       "      <th>frigo</th>\n",
       "      <th>dishwasher</th>\n",
       "      <th>kettle</th>\n",
       "      <th>coffe_maker</th>\n",
       "      <th>sandwichmaker</th>\n",
       "      <th>microwave</th>\n",
       "      <th>stove_light</th>\n",
       "    </tr>\n",
       "  </thead>\n",
       "  <tbody>\n",
       "    <tr>\n",
       "      <th>0</th>\n",
       "      <td>2020-02-27 18:25:00</td>\n",
       "      <td>1.0</td>\n",
       "      <td>NaN</td>\n",
       "      <td>NaN</td>\n",
       "      <td>NaN</td>\n",
       "      <td>NaN</td>\n",
       "      <td>NaN</td>\n",
       "      <td>1.0</td>\n",
       "    </tr>\n",
       "    <tr>\n",
       "      <th>1</th>\n",
       "      <td>2020-02-27 21:07:00</td>\n",
       "      <td>1.0</td>\n",
       "      <td>NaN</td>\n",
       "      <td>NaN</td>\n",
       "      <td>NaN</td>\n",
       "      <td>NaN</td>\n",
       "      <td>NaN</td>\n",
       "      <td>1.0</td>\n",
       "    </tr>\n",
       "    <tr>\n",
       "      <th>2</th>\n",
       "      <td>2020-02-28 15:03:00</td>\n",
       "      <td>1.0</td>\n",
       "      <td>NaN</td>\n",
       "      <td>NaN</td>\n",
       "      <td>NaN</td>\n",
       "      <td>NaN</td>\n",
       "      <td>NaN</td>\n",
       "      <td>1.0</td>\n",
       "    </tr>\n",
       "    <tr>\n",
       "      <th>3</th>\n",
       "      <td>2020-02-28 21:15:00</td>\n",
       "      <td>1.0</td>\n",
       "      <td>NaN</td>\n",
       "      <td>NaN</td>\n",
       "      <td>NaN</td>\n",
       "      <td>NaN</td>\n",
       "      <td>NaN</td>\n",
       "      <td>1.0</td>\n",
       "    </tr>\n",
       "    <tr>\n",
       "      <th>4</th>\n",
       "      <td>2020-02-29 00:18:00</td>\n",
       "      <td>1.0</td>\n",
       "      <td>NaN</td>\n",
       "      <td>NaN</td>\n",
       "      <td>NaN</td>\n",
       "      <td>NaN</td>\n",
       "      <td>NaN</td>\n",
       "      <td>NaN</td>\n",
       "    </tr>\n",
       "    <tr>\n",
       "      <th>...</th>\n",
       "      <td>...</td>\n",
       "      <td>...</td>\n",
       "      <td>...</td>\n",
       "      <td>...</td>\n",
       "      <td>...</td>\n",
       "      <td>...</td>\n",
       "      <td>...</td>\n",
       "      <td>...</td>\n",
       "    </tr>\n",
       "    <tr>\n",
       "      <th>7895</th>\n",
       "      <td>2020-02-29 00:30:59</td>\n",
       "      <td>NaN</td>\n",
       "      <td>NaN</td>\n",
       "      <td>NaN</td>\n",
       "      <td>NaN</td>\n",
       "      <td>NaN</td>\n",
       "      <td>NaN</td>\n",
       "      <td>1.0</td>\n",
       "    </tr>\n",
       "    <tr>\n",
       "      <th>7896</th>\n",
       "      <td>2020-02-29 00:32:00</td>\n",
       "      <td>NaN</td>\n",
       "      <td>NaN</td>\n",
       "      <td>NaN</td>\n",
       "      <td>NaN</td>\n",
       "      <td>NaN</td>\n",
       "      <td>NaN</td>\n",
       "      <td>1.0</td>\n",
       "    </tr>\n",
       "    <tr>\n",
       "      <th>7897</th>\n",
       "      <td>2020-02-29 00:33:00</td>\n",
       "      <td>NaN</td>\n",
       "      <td>NaN</td>\n",
       "      <td>NaN</td>\n",
       "      <td>NaN</td>\n",
       "      <td>NaN</td>\n",
       "      <td>NaN</td>\n",
       "      <td>1.0</td>\n",
       "    </tr>\n",
       "    <tr>\n",
       "      <th>7898</th>\n",
       "      <td>2020-02-29 00:34:00</td>\n",
       "      <td>NaN</td>\n",
       "      <td>NaN</td>\n",
       "      <td>NaN</td>\n",
       "      <td>NaN</td>\n",
       "      <td>NaN</td>\n",
       "      <td>NaN</td>\n",
       "      <td>1.0</td>\n",
       "    </tr>\n",
       "    <tr>\n",
       "      <th>7899</th>\n",
       "      <td>2020-02-29 00:3</td>\n",
       "      <td>NaN</td>\n",
       "      <td>NaN</td>\n",
       "      <td>NaN</td>\n",
       "      <td>NaN</td>\n",
       "      <td>NaN</td>\n",
       "      <td>NaN</td>\n",
       "      <td>1.0</td>\n",
       "    </tr>\n",
       "  </tbody>\n",
       "</table>\n",
       "<p>7900 rows × 8 columns</p>\n",
       "</div>"
      ],
      "text/plain": [
       "                timestamp  frigo  dishwasher  kettle  coffe_maker  \\\n",
       "0     2020-02-27 18:25:00    1.0         NaN     NaN          NaN   \n",
       "1     2020-02-27 21:07:00    1.0         NaN     NaN          NaN   \n",
       "2     2020-02-28 15:03:00    1.0         NaN     NaN          NaN   \n",
       "3     2020-02-28 21:15:00    1.0         NaN     NaN          NaN   \n",
       "4     2020-02-29 00:18:00    1.0         NaN     NaN          NaN   \n",
       "...                   ...    ...         ...     ...          ...   \n",
       "7895  2020-02-29 00:30:59    NaN         NaN     NaN          NaN   \n",
       "7896  2020-02-29 00:32:00    NaN         NaN     NaN          NaN   \n",
       "7897  2020-02-29 00:33:00    NaN         NaN     NaN          NaN   \n",
       "7898  2020-02-29 00:34:00    NaN         NaN     NaN          NaN   \n",
       "7899      2020-02-29 00:3    NaN         NaN     NaN          NaN   \n",
       "\n",
       "      sandwichmaker  microwave  stove_light  \n",
       "0               NaN        NaN          1.0  \n",
       "1               NaN        NaN          1.0  \n",
       "2               NaN        NaN          1.0  \n",
       "3               NaN        NaN          1.0  \n",
       "4               NaN        NaN          NaN  \n",
       "...             ...        ...          ...  \n",
       "7895            NaN        NaN          1.0  \n",
       "7896            NaN        NaN          1.0  \n",
       "7897            NaN        NaN          1.0  \n",
       "7898            NaN        NaN          1.0  \n",
       "7899            NaN        NaN          1.0  \n",
       "\n",
       "[7900 rows x 8 columns]"
      ]
     },
     "execution_count": 526,
     "metadata": {},
     "output_type": "execute_result"
    }
   ],
   "source": [
    "df_merged = reduce(lambda  left,right: pd.merge(left,right,on=['timestamp'],\n",
    "                                            how='outer'), data_frames)\n",
    "df_merged"
   ]
  },
  {
   "cell_type": "code",
   "execution_count": 478,
   "metadata": {},
   "outputs": [
    {
     "data": {
      "text/html": [
       "<div>\n",
       "<style scoped>\n",
       "    .dataframe tbody tr th:only-of-type {\n",
       "        vertical-align: middle;\n",
       "    }\n",
       "\n",
       "    .dataframe tbody tr th {\n",
       "        vertical-align: top;\n",
       "    }\n",
       "\n",
       "    .dataframe thead th {\n",
       "        text-align: right;\n",
       "    }\n",
       "</style>\n",
       "<table border=\"1\" class=\"dataframe\">\n",
       "  <thead>\n",
       "    <tr style=\"text-align: right;\">\n",
       "      <th></th>\n",
       "      <th>timestamp</th>\n",
       "      <th>frigo</th>\n",
       "      <th>dishwasher</th>\n",
       "      <th>kettle</th>\n",
       "      <th>coffe_maker</th>\n",
       "      <th>sandwichmaker</th>\n",
       "      <th>microwave</th>\n",
       "      <th>stove_light</th>\n",
       "    </tr>\n",
       "  </thead>\n",
       "  <tbody>\n",
       "    <tr>\n",
       "      <th>0</th>\n",
       "      <td>2020-02-27 18:25:00</td>\n",
       "      <td>1.0</td>\n",
       "      <td>NaN</td>\n",
       "      <td>NaN</td>\n",
       "      <td>NaN</td>\n",
       "      <td>NaN</td>\n",
       "      <td>NaN</td>\n",
       "      <td>1.0</td>\n",
       "    </tr>\n",
       "    <tr>\n",
       "      <th>1</th>\n",
       "      <td>2020-02-27 21:07:00</td>\n",
       "      <td>1.0</td>\n",
       "      <td>NaN</td>\n",
       "      <td>NaN</td>\n",
       "      <td>NaN</td>\n",
       "      <td>NaN</td>\n",
       "      <td>NaN</td>\n",
       "      <td>1.0</td>\n",
       "    </tr>\n",
       "    <tr>\n",
       "      <th>2</th>\n",
       "      <td>2020-02-28 15:03:00</td>\n",
       "      <td>1.0</td>\n",
       "      <td>NaN</td>\n",
       "      <td>NaN</td>\n",
       "      <td>NaN</td>\n",
       "      <td>NaN</td>\n",
       "      <td>NaN</td>\n",
       "      <td>1.0</td>\n",
       "    </tr>\n",
       "    <tr>\n",
       "      <th>3</th>\n",
       "      <td>2020-02-28 21:15:00</td>\n",
       "      <td>1.0</td>\n",
       "      <td>NaN</td>\n",
       "      <td>NaN</td>\n",
       "      <td>NaN</td>\n",
       "      <td>NaN</td>\n",
       "      <td>NaN</td>\n",
       "      <td>1.0</td>\n",
       "    </tr>\n",
       "    <tr>\n",
       "      <th>4</th>\n",
       "      <td>2020-02-29 00:18:00</td>\n",
       "      <td>1.0</td>\n",
       "      <td>NaN</td>\n",
       "      <td>NaN</td>\n",
       "      <td>NaN</td>\n",
       "      <td>NaN</td>\n",
       "      <td>NaN</td>\n",
       "      <td>1.0</td>\n",
       "    </tr>\n",
       "    <tr>\n",
       "      <th>...</th>\n",
       "      <td>...</td>\n",
       "      <td>...</td>\n",
       "      <td>...</td>\n",
       "      <td>...</td>\n",
       "      <td>...</td>\n",
       "      <td>...</td>\n",
       "      <td>...</td>\n",
       "      <td>...</td>\n",
       "    </tr>\n",
       "    <tr>\n",
       "      <th>14393</th>\n",
       "      <td>2020-02-29 00:30:59</td>\n",
       "      <td>NaN</td>\n",
       "      <td>NaN</td>\n",
       "      <td>NaN</td>\n",
       "      <td>NaN</td>\n",
       "      <td>NaN</td>\n",
       "      <td>NaN</td>\n",
       "      <td>1.0</td>\n",
       "    </tr>\n",
       "    <tr>\n",
       "      <th>14394</th>\n",
       "      <td>2020-02-29 00:32:00</td>\n",
       "      <td>NaN</td>\n",
       "      <td>NaN</td>\n",
       "      <td>NaN</td>\n",
       "      <td>NaN</td>\n",
       "      <td>NaN</td>\n",
       "      <td>NaN</td>\n",
       "      <td>1.0</td>\n",
       "    </tr>\n",
       "    <tr>\n",
       "      <th>14395</th>\n",
       "      <td>2020-02-29 00:33:00</td>\n",
       "      <td>NaN</td>\n",
       "      <td>NaN</td>\n",
       "      <td>NaN</td>\n",
       "      <td>NaN</td>\n",
       "      <td>NaN</td>\n",
       "      <td>NaN</td>\n",
       "      <td>1.0</td>\n",
       "    </tr>\n",
       "    <tr>\n",
       "      <th>14396</th>\n",
       "      <td>2020-02-29 00:34:00</td>\n",
       "      <td>NaN</td>\n",
       "      <td>NaN</td>\n",
       "      <td>NaN</td>\n",
       "      <td>NaN</td>\n",
       "      <td>NaN</td>\n",
       "      <td>NaN</td>\n",
       "      <td>1.0</td>\n",
       "    </tr>\n",
       "    <tr>\n",
       "      <th>14397</th>\n",
       "      <td>2020-02-29 00:3</td>\n",
       "      <td>NaN</td>\n",
       "      <td>NaN</td>\n",
       "      <td>NaN</td>\n",
       "      <td>NaN</td>\n",
       "      <td>NaN</td>\n",
       "      <td>NaN</td>\n",
       "      <td>1.0</td>\n",
       "    </tr>\n",
       "  </tbody>\n",
       "</table>\n",
       "<p>14398 rows × 8 columns</p>\n",
       "</div>"
      ],
      "text/plain": [
       "                 timestamp  frigo  dishwasher  kettle  coffe_maker  \\\n",
       "0      2020-02-27 18:25:00    1.0         NaN     NaN          NaN   \n",
       "1      2020-02-27 21:07:00    1.0         NaN     NaN          NaN   \n",
       "2      2020-02-28 15:03:00    1.0         NaN     NaN          NaN   \n",
       "3      2020-02-28 21:15:00    1.0         NaN     NaN          NaN   \n",
       "4      2020-02-29 00:18:00    1.0         NaN     NaN          NaN   \n",
       "...                    ...    ...         ...     ...          ...   \n",
       "14393  2020-02-29 00:30:59    NaN         NaN     NaN          NaN   \n",
       "14394  2020-02-29 00:32:00    NaN         NaN     NaN          NaN   \n",
       "14395  2020-02-29 00:33:00    NaN         NaN     NaN          NaN   \n",
       "14396  2020-02-29 00:34:00    NaN         NaN     NaN          NaN   \n",
       "14397      2020-02-29 00:3    NaN         NaN     NaN          NaN   \n",
       "\n",
       "       sandwichmaker  microwave  stove_light  \n",
       "0                NaN        NaN          1.0  \n",
       "1                NaN        NaN          1.0  \n",
       "2                NaN        NaN          1.0  \n",
       "3                NaN        NaN          1.0  \n",
       "4                NaN        NaN          1.0  \n",
       "...              ...        ...          ...  \n",
       "14393            NaN        NaN          1.0  \n",
       "14394            NaN        NaN          1.0  \n",
       "14395            NaN        NaN          1.0  \n",
       "14396            NaN        NaN          1.0  \n",
       "14397            NaN        NaN          1.0  \n",
       "\n",
       "[14398 rows x 8 columns]"
      ]
     },
     "execution_count": 478,
     "metadata": {},
     "output_type": "execute_result"
    }
   ],
   "source": [
    "df_merged=df_merged.dropna(how='any',axis=0,thresh=1)\n",
    "df_merged"
   ]
  },
  {
   "cell_type": "code",
   "execution_count": 527,
   "metadata": {},
   "outputs": [],
   "source": [
    "df_merged = df_merged.fillna(0)\n",
    "df_merged\n",
    "df_merged.drop(columns=[\"timestamp\"],inplace=True)"
   ]
  },
  {
   "cell_type": "code",
   "execution_count": 376,
   "metadata": {},
   "outputs": [
    {
     "name": "stderr",
     "output_type": "stream",
     "text": [
      "C:\\Users\\Public\\Documents\\Wondershare\\CreatorTemp/ipykernel_11280/579263163.py:3: FutureWarning: In a future version of pandas all arguments of DataFrame.drop except for the argument 'labels' will be keyword-only\n",
      "  df_merged.drop(index_with_nan,0, inplace=True)\n"
     ]
    }
   ],
   "source": [
    "index_with_nan = df_merged.index[df_merged.isnull().any(axis=1)]\n",
    "\n",
    "df_merged.drop(index_with_nan,0, inplace=True)"
   ]
  },
  {
   "cell_type": "code",
   "execution_count": 528,
   "metadata": {},
   "outputs": [
    {
     "data": {
      "text/html": [
       "<div>\n",
       "<style scoped>\n",
       "    .dataframe tbody tr th:only-of-type {\n",
       "        vertical-align: middle;\n",
       "    }\n",
       "\n",
       "    .dataframe tbody tr th {\n",
       "        vertical-align: top;\n",
       "    }\n",
       "\n",
       "    .dataframe thead th {\n",
       "        text-align: right;\n",
       "    }\n",
       "</style>\n",
       "<table border=\"1\" class=\"dataframe\">\n",
       "  <thead>\n",
       "    <tr style=\"text-align: right;\">\n",
       "      <th></th>\n",
       "      <th>frigo</th>\n",
       "      <th>dishwasher</th>\n",
       "      <th>kettle</th>\n",
       "      <th>coffe_maker</th>\n",
       "      <th>sandwichmaker</th>\n",
       "      <th>microwave</th>\n",
       "      <th>stove_light</th>\n",
       "    </tr>\n",
       "  </thead>\n",
       "  <tbody>\n",
       "    <tr>\n",
       "      <th>0</th>\n",
       "      <td>1.0</td>\n",
       "      <td>0.0</td>\n",
       "      <td>0.0</td>\n",
       "      <td>0.0</td>\n",
       "      <td>0.0</td>\n",
       "      <td>0.0</td>\n",
       "      <td>1.0</td>\n",
       "    </tr>\n",
       "    <tr>\n",
       "      <th>1</th>\n",
       "      <td>1.0</td>\n",
       "      <td>0.0</td>\n",
       "      <td>0.0</td>\n",
       "      <td>0.0</td>\n",
       "      <td>0.0</td>\n",
       "      <td>0.0</td>\n",
       "      <td>1.0</td>\n",
       "    </tr>\n",
       "    <tr>\n",
       "      <th>2</th>\n",
       "      <td>1.0</td>\n",
       "      <td>0.0</td>\n",
       "      <td>0.0</td>\n",
       "      <td>0.0</td>\n",
       "      <td>0.0</td>\n",
       "      <td>0.0</td>\n",
       "      <td>1.0</td>\n",
       "    </tr>\n",
       "    <tr>\n",
       "      <th>3</th>\n",
       "      <td>1.0</td>\n",
       "      <td>0.0</td>\n",
       "      <td>0.0</td>\n",
       "      <td>0.0</td>\n",
       "      <td>0.0</td>\n",
       "      <td>0.0</td>\n",
       "      <td>1.0</td>\n",
       "    </tr>\n",
       "    <tr>\n",
       "      <th>4</th>\n",
       "      <td>1.0</td>\n",
       "      <td>0.0</td>\n",
       "      <td>0.0</td>\n",
       "      <td>0.0</td>\n",
       "      <td>0.0</td>\n",
       "      <td>0.0</td>\n",
       "      <td>0.0</td>\n",
       "    </tr>\n",
       "    <tr>\n",
       "      <th>...</th>\n",
       "      <td>...</td>\n",
       "      <td>...</td>\n",
       "      <td>...</td>\n",
       "      <td>...</td>\n",
       "      <td>...</td>\n",
       "      <td>...</td>\n",
       "      <td>...</td>\n",
       "    </tr>\n",
       "    <tr>\n",
       "      <th>7895</th>\n",
       "      <td>0.0</td>\n",
       "      <td>0.0</td>\n",
       "      <td>0.0</td>\n",
       "      <td>0.0</td>\n",
       "      <td>0.0</td>\n",
       "      <td>0.0</td>\n",
       "      <td>1.0</td>\n",
       "    </tr>\n",
       "    <tr>\n",
       "      <th>7896</th>\n",
       "      <td>0.0</td>\n",
       "      <td>0.0</td>\n",
       "      <td>0.0</td>\n",
       "      <td>0.0</td>\n",
       "      <td>0.0</td>\n",
       "      <td>0.0</td>\n",
       "      <td>1.0</td>\n",
       "    </tr>\n",
       "    <tr>\n",
       "      <th>7897</th>\n",
       "      <td>0.0</td>\n",
       "      <td>0.0</td>\n",
       "      <td>0.0</td>\n",
       "      <td>0.0</td>\n",
       "      <td>0.0</td>\n",
       "      <td>0.0</td>\n",
       "      <td>1.0</td>\n",
       "    </tr>\n",
       "    <tr>\n",
       "      <th>7898</th>\n",
       "      <td>0.0</td>\n",
       "      <td>0.0</td>\n",
       "      <td>0.0</td>\n",
       "      <td>0.0</td>\n",
       "      <td>0.0</td>\n",
       "      <td>0.0</td>\n",
       "      <td>1.0</td>\n",
       "    </tr>\n",
       "    <tr>\n",
       "      <th>7899</th>\n",
       "      <td>0.0</td>\n",
       "      <td>0.0</td>\n",
       "      <td>0.0</td>\n",
       "      <td>0.0</td>\n",
       "      <td>0.0</td>\n",
       "      <td>0.0</td>\n",
       "      <td>1.0</td>\n",
       "    </tr>\n",
       "  </tbody>\n",
       "</table>\n",
       "<p>7900 rows × 7 columns</p>\n",
       "</div>"
      ],
      "text/plain": [
       "      frigo  dishwasher  kettle  coffe_maker  sandwichmaker  microwave  \\\n",
       "0       1.0         0.0     0.0          0.0            0.0        0.0   \n",
       "1       1.0         0.0     0.0          0.0            0.0        0.0   \n",
       "2       1.0         0.0     0.0          0.0            0.0        0.0   \n",
       "3       1.0         0.0     0.0          0.0            0.0        0.0   \n",
       "4       1.0         0.0     0.0          0.0            0.0        0.0   \n",
       "...     ...         ...     ...          ...            ...        ...   \n",
       "7895    0.0         0.0     0.0          0.0            0.0        0.0   \n",
       "7896    0.0         0.0     0.0          0.0            0.0        0.0   \n",
       "7897    0.0         0.0     0.0          0.0            0.0        0.0   \n",
       "7898    0.0         0.0     0.0          0.0            0.0        0.0   \n",
       "7899    0.0         0.0     0.0          0.0            0.0        0.0   \n",
       "\n",
       "      stove_light  \n",
       "0             1.0  \n",
       "1             1.0  \n",
       "2             1.0  \n",
       "3             1.0  \n",
       "4             0.0  \n",
       "...           ...  \n",
       "7895          1.0  \n",
       "7896          1.0  \n",
       "7897          1.0  \n",
       "7898          1.0  \n",
       "7899          1.0  \n",
       "\n",
       "[7900 rows x 7 columns]"
      ]
     },
     "execution_count": 528,
     "metadata": {},
     "output_type": "execute_result"
    }
   ],
   "source": [
    "df_merged"
   ]
  },
  {
   "cell_type": "code",
   "execution_count": 378,
   "metadata": {},
   "outputs": [
    {
     "data": {
      "text/plain": [
       "timestamp         object\n",
       "frigo            float64\n",
       "dishwasher       float64\n",
       "kettle           float64\n",
       "coffe_maker      float64\n",
       "sandwichmaker    float64\n",
       "microwave        float64\n",
       "dtype: object"
      ]
     },
     "execution_count": 378,
     "metadata": {},
     "output_type": "execute_result"
    }
   ],
   "source": [
    "df_merged.dtypes"
   ]
  },
  {
   "cell_type": "code",
   "execution_count": 529,
   "metadata": {},
   "outputs": [],
   "source": [
    "pd.DataFrame.to_csv(df_merged, 'data_cuisine.csv', sep=',', na_rep='.', index=False)"
   ]
  },
  {
   "cell_type": "code",
   "execution_count": 530,
   "metadata": {},
   "outputs": [],
   "source": [
    "data =pd.read_csv(\"data_cuisine.csv\", sep=',', header=0)"
   ]
  },
  {
   "cell_type": "code",
   "execution_count": 531,
   "metadata": {},
   "outputs": [
    {
     "data": {
      "text/html": [
       "<div>\n",
       "<style scoped>\n",
       "    .dataframe tbody tr th:only-of-type {\n",
       "        vertical-align: middle;\n",
       "    }\n",
       "\n",
       "    .dataframe tbody tr th {\n",
       "        vertical-align: top;\n",
       "    }\n",
       "\n",
       "    .dataframe thead th {\n",
       "        text-align: right;\n",
       "    }\n",
       "</style>\n",
       "<table border=\"1\" class=\"dataframe\">\n",
       "  <thead>\n",
       "    <tr style=\"text-align: right;\">\n",
       "      <th></th>\n",
       "      <th>frigo</th>\n",
       "      <th>dishwasher</th>\n",
       "      <th>kettle</th>\n",
       "      <th>coffe_maker</th>\n",
       "      <th>sandwichmaker</th>\n",
       "      <th>microwave</th>\n",
       "      <th>stove_light</th>\n",
       "    </tr>\n",
       "  </thead>\n",
       "  <tbody>\n",
       "    <tr>\n",
       "      <th>0</th>\n",
       "      <td>1.0</td>\n",
       "      <td>0.0</td>\n",
       "      <td>0.0</td>\n",
       "      <td>0.0</td>\n",
       "      <td>0.0</td>\n",
       "      <td>0.0</td>\n",
       "      <td>1.0</td>\n",
       "    </tr>\n",
       "    <tr>\n",
       "      <th>1</th>\n",
       "      <td>1.0</td>\n",
       "      <td>0.0</td>\n",
       "      <td>0.0</td>\n",
       "      <td>0.0</td>\n",
       "      <td>0.0</td>\n",
       "      <td>0.0</td>\n",
       "      <td>1.0</td>\n",
       "    </tr>\n",
       "    <tr>\n",
       "      <th>2</th>\n",
       "      <td>1.0</td>\n",
       "      <td>0.0</td>\n",
       "      <td>0.0</td>\n",
       "      <td>0.0</td>\n",
       "      <td>0.0</td>\n",
       "      <td>0.0</td>\n",
       "      <td>1.0</td>\n",
       "    </tr>\n",
       "    <tr>\n",
       "      <th>3</th>\n",
       "      <td>1.0</td>\n",
       "      <td>0.0</td>\n",
       "      <td>0.0</td>\n",
       "      <td>0.0</td>\n",
       "      <td>0.0</td>\n",
       "      <td>0.0</td>\n",
       "      <td>1.0</td>\n",
       "    </tr>\n",
       "    <tr>\n",
       "      <th>4</th>\n",
       "      <td>1.0</td>\n",
       "      <td>0.0</td>\n",
       "      <td>0.0</td>\n",
       "      <td>0.0</td>\n",
       "      <td>0.0</td>\n",
       "      <td>0.0</td>\n",
       "      <td>0.0</td>\n",
       "    </tr>\n",
       "    <tr>\n",
       "      <th>...</th>\n",
       "      <td>...</td>\n",
       "      <td>...</td>\n",
       "      <td>...</td>\n",
       "      <td>...</td>\n",
       "      <td>...</td>\n",
       "      <td>...</td>\n",
       "      <td>...</td>\n",
       "    </tr>\n",
       "    <tr>\n",
       "      <th>7895</th>\n",
       "      <td>0.0</td>\n",
       "      <td>0.0</td>\n",
       "      <td>0.0</td>\n",
       "      <td>0.0</td>\n",
       "      <td>0.0</td>\n",
       "      <td>0.0</td>\n",
       "      <td>1.0</td>\n",
       "    </tr>\n",
       "    <tr>\n",
       "      <th>7896</th>\n",
       "      <td>0.0</td>\n",
       "      <td>0.0</td>\n",
       "      <td>0.0</td>\n",
       "      <td>0.0</td>\n",
       "      <td>0.0</td>\n",
       "      <td>0.0</td>\n",
       "      <td>1.0</td>\n",
       "    </tr>\n",
       "    <tr>\n",
       "      <th>7897</th>\n",
       "      <td>0.0</td>\n",
       "      <td>0.0</td>\n",
       "      <td>0.0</td>\n",
       "      <td>0.0</td>\n",
       "      <td>0.0</td>\n",
       "      <td>0.0</td>\n",
       "      <td>1.0</td>\n",
       "    </tr>\n",
       "    <tr>\n",
       "      <th>7898</th>\n",
       "      <td>0.0</td>\n",
       "      <td>0.0</td>\n",
       "      <td>0.0</td>\n",
       "      <td>0.0</td>\n",
       "      <td>0.0</td>\n",
       "      <td>0.0</td>\n",
       "      <td>1.0</td>\n",
       "    </tr>\n",
       "    <tr>\n",
       "      <th>7899</th>\n",
       "      <td>0.0</td>\n",
       "      <td>0.0</td>\n",
       "      <td>0.0</td>\n",
       "      <td>0.0</td>\n",
       "      <td>0.0</td>\n",
       "      <td>0.0</td>\n",
       "      <td>1.0</td>\n",
       "    </tr>\n",
       "  </tbody>\n",
       "</table>\n",
       "<p>7900 rows × 7 columns</p>\n",
       "</div>"
      ],
      "text/plain": [
       "      frigo  dishwasher  kettle  coffe_maker  sandwichmaker  microwave  \\\n",
       "0       1.0         0.0     0.0          0.0            0.0        0.0   \n",
       "1       1.0         0.0     0.0          0.0            0.0        0.0   \n",
       "2       1.0         0.0     0.0          0.0            0.0        0.0   \n",
       "3       1.0         0.0     0.0          0.0            0.0        0.0   \n",
       "4       1.0         0.0     0.0          0.0            0.0        0.0   \n",
       "...     ...         ...     ...          ...            ...        ...   \n",
       "7895    0.0         0.0     0.0          0.0            0.0        0.0   \n",
       "7896    0.0         0.0     0.0          0.0            0.0        0.0   \n",
       "7897    0.0         0.0     0.0          0.0            0.0        0.0   \n",
       "7898    0.0         0.0     0.0          0.0            0.0        0.0   \n",
       "7899    0.0         0.0     0.0          0.0            0.0        0.0   \n",
       "\n",
       "      stove_light  \n",
       "0             1.0  \n",
       "1             1.0  \n",
       "2             1.0  \n",
       "3             1.0  \n",
       "4             0.0  \n",
       "...           ...  \n",
       "7895          1.0  \n",
       "7896          1.0  \n",
       "7897          1.0  \n",
       "7898          1.0  \n",
       "7899          1.0  \n",
       "\n",
       "[7900 rows x 7 columns]"
      ]
     },
     "execution_count": 531,
     "metadata": {},
     "output_type": "execute_result"
    }
   ],
   "source": [
    "data"
   ]
  },
  {
   "cell_type": "code",
   "execution_count": 465,
   "metadata": {},
   "outputs": [
    {
     "data": {
      "text/plain": [
       "0        0.0\n",
       "1        0.0\n",
       "2        0.0\n",
       "3        0.0\n",
       "4        0.0\n",
       "        ... \n",
       "14393    0.0\n",
       "14394    0.0\n",
       "14395    0.0\n",
       "14396    0.0\n",
       "14397    0.0\n",
       "Name: coffe_maker, Length: 14398, dtype: float64"
      ]
     },
     "execution_count": 465,
     "metadata": {},
     "output_type": "execute_result"
    }
   ],
   "source": [
    "targed"
   ]
  },
  {
   "cell_type": "code",
   "execution_count": 414,
   "metadata": {},
   "outputs": [
    {
     "data": {
      "image/png": "[encoded data removed]",
      "text/plain": [
       "<Figure size 5040x5040 with 25 Axes>"
      ]
     },
     "metadata": {
      "needs_background": "light"
     },
     "output_type": "display_data"
    }
   ],
   "source": [
    "%matplotlib inline\n",
    "_ = pd.plotting.scatter_matrix(df_merged,c=targed, figsize=(70,70), marker='o',hist_kwds={'bins':20},s=60,alpha=.8)"
   ]
  },
  {
   "cell_type": "code",
   "execution_count": 532,
   "metadata": {},
   "outputs": [
    {
     "data": {
      "image/png": "[encoded data removed]",
      "text/plain": [
       "<Figure size 432x288 with 2 Axes>"
      ]
     },
     "metadata": {
      "needs_background": "light"
     },
     "output_type": "display_data"
    }
   ],
   "source": [
    "data =pd.read_csv(\"data_cuisine.csv\", sep=',', header=0)\n",
    "ax = sns.heatmap(data, xticklabels=2, yticklabels=False)"
   ]
  },
  {
   "cell_type": "code",
   "execution_count": 551,
   "metadata": {},
   "outputs": [
    {
     "name": "stdout",
     "output_type": "stream",
     "text": [
      "Training set score: 0.70\n",
      "Test set score: 0.74\n"
     ]
    }
   ],
   "source": [
    "from sklearn.linear_model import LinearRegression\n",
    "from sklearn.model_selection import train_test_split\n",
    "from sklearn.model_selection import cross_val_score\n",
    "data =pd.read_csv(\"data_cuisine.csv\", sep=',', header=0)\n",
    "#df_merged.drop(columns=['timestamp'],inplace=True)\n",
    "target=data.pop('coffe_maker')\n",
    "\n",
    "from sklearn.preprocessing import PolynomialFeatures\n",
    "\n",
    "poly = PolynomialFeatures(2)\n",
    "X_pol = poly.fit_transform(data)\n",
    "\n",
    "X_train_pol, X_test_pol, y_train_pol, y_test_pol = train_test_split(data, target, random_state=0)\n",
    "lr_pol = LinearRegression().fit(X_train_pol,y_train_pol)\n",
    "\n",
    "print(\"Training set score: {:.2f}\".format(lr_pol.score(X_train_pol,y_train_pol)))\n",
    "print(\"Test set score: {:.2f}\".format(lr_pol.score(X_test_pol,y_test_pol)))"
   ]
  },
  {
   "cell_type": "code",
   "execution_count": null,
   "metadata": {},
   "outputs": [],
   "source": []
  },
  {
   "cell_type": "code",
   "execution_count": 534,
   "metadata": {},
   "outputs": [
    {
     "name": "stdout",
     "output_type": "stream",
     "text": [
      "Training set score: 0.98\n",
      "Test set score: 0.98\n"
     ]
    }
   ],
   "source": [
    "from sklearn.linear_model import LinearRegression\n",
    "from sklearn.model_selection import train_test_split\n",
    "from sklearn.model_selection import cross_val_score\n",
    "data =pd.read_csv(\"data_cuisine.csv\", sep=',', header=0)\n",
    "#df_merged.drop(columns=['timestamp'],inplace=True)\n",
    "target=data.pop('frigo')\n",
    "X_train, X_test, y_train, y_test = train_test_split(data,target, random_state=0)\n",
    "lr = LinearRegression().fit(X_train,y_train)\n",
    "\n",
    "print(\"Training set score: {:.2f}\".format(lr.score(X_train,y_train)))\n",
    "print(\"Test set score: {:.2f}\".format(lr.score(X_test,y_test)))"
   ]
  },
  {
   "cell_type": "code",
   "execution_count": 535,
   "metadata": {},
   "outputs": [
    {
     "name": "stdout",
     "output_type": "stream",
     "text": [
      "Training set score: 0.94\n",
      "Test set score: 0.94\n"
     ]
    }
   ],
   "source": [
    "from sklearn.linear_model import LinearRegression\n",
    "from sklearn.model_selection import train_test_split\n",
    "from sklearn.model_selection import cross_val_score\n",
    "data =pd.read_csv(\"data_cuisine.csv\", sep=',', header=0)\n",
    "#df_merged.drop(columns=['timestamp'],inplace=True)\n",
    "target=data.pop('dishwasher')\n",
    "X_train, X_test, y_train, y_test = train_test_split(data,target, random_state=0)\n",
    "lr = LinearRegression().fit(X_train,y_train)\n",
    "\n",
    "print(\"Training set score: {:.2f}\".format(lr.score(X_train,y_train)))\n",
    "print(\"Test set score: {:.2f}\".format(lr.score(X_test,y_test)))"
   ]
  },
  {
   "cell_type": "code",
   "execution_count": 536,
   "metadata": {},
   "outputs": [
    {
     "name": "stdout",
     "output_type": "stream",
     "text": [
      "Training set score: 0.70\n",
      "Test set score: 0.70\n"
     ]
    }
   ],
   "source": [
    "from sklearn.linear_model import LinearRegression\n",
    "from sklearn.model_selection import train_test_split\n",
    "from sklearn.model_selection import cross_val_score\n",
    "data =pd.read_csv(\"data_cuisine.csv\", sep=',', header=0)\n",
    "#df_merged.drop(columns=['timestamp'],inplace=True)\n",
    "target=data.pop('kettle')\n",
    "X_train, X_test, y_train, y_test = train_test_split(data,target, random_state=0)\n",
    "lr = LinearRegression().fit(X_train,y_train)\n",
    "\n",
    "print(\"Training set score: {:.2f}\".format(lr.score(X_train,y_train)))\n",
    "print(\"Test set score: {:.2f}\".format(lr.score(X_test,y_test)))"
   ]
  },
  {
   "cell_type": "code",
   "execution_count": 537,
   "metadata": {},
   "outputs": [
    {
     "name": "stdout",
     "output_type": "stream",
     "text": [
      "Training set score: 0.84\n",
      "Test set score: 0.82\n"
     ]
    }
   ],
   "source": [
    "from sklearn.linear_model import LinearRegression\n",
    "from sklearn.model_selection import train_test_split\n",
    "from sklearn.model_selection import cross_val_score\n",
    "data =pd.read_csv(\"data_cuisine.csv\", sep=',', header=0)\n",
    "#df_merged.drop(columns=['timestamp'],inplace=True)\n",
    "target=data.pop('sandwichmaker')\n",
    "X_train, X_test, y_train, y_test = train_test_split(data,target, random_state=0)\n",
    "lr = LinearRegression().fit(X_train,y_train)\n",
    "\n",
    "print(\"Training set score: {:.2f}\".format(lr.score(X_train,y_train)))\n",
    "print(\"Test set score: {:.2f}\".format(lr.score(X_test,y_test)))"
   ]
  },
  {
   "cell_type": "code",
   "execution_count": 538,
   "metadata": {},
   "outputs": [
    {
     "name": "stdout",
     "output_type": "stream",
     "text": [
      "Training set score: 0.56\n",
      "Test set score: 0.60\n"
     ]
    }
   ],
   "source": [
    "from sklearn.linear_model import LinearRegression\n",
    "from sklearn.model_selection import train_test_split\n",
    "from sklearn.model_selection import cross_val_score\n",
    "data =pd.read_csv(\"data_cuisine.csv\", sep=',', header=0)\n",
    "#df_merged.drop(columns=['timestamp'],inplace=True)\n",
    "target=data.pop('microwave')\n",
    "X_train, X_test, y_train, y_test = train_test_split(data,target, random_state=0)\n",
    "lr = LinearRegression().fit(X_train,y_train)\n",
    "\n",
    "print(\"Training set score: {:.2f}\".format(lr.score(X_train,y_train)))\n",
    "print(\"Test set score: {:.2f}\".format(lr.score(X_test,y_test)))"
   ]
  },
  {
   "cell_type": "code",
   "execution_count": 539,
   "metadata": {},
   "outputs": [
    {
     "name": "stdout",
     "output_type": "stream",
     "text": [
      "Training set score: 0.97\n",
      "Test set score: 0.97\n"
     ]
    }
   ],
   "source": [
    "from sklearn.linear_model import LinearRegression\n",
    "from sklearn.model_selection import train_test_split\n",
    "from sklearn.model_selection import cross_val_score\n",
    "data =pd.read_csv(\"data_cuisine.csv\", sep=',', header=0)\n",
    "#df_merged.drop(columns=['timestamp'],inplace=True)\n",
    "target=data.pop('stove_light')\n",
    "X_train, X_test, y_train, y_test = train_test_split(data,target, random_state=0)\n",
    "lr = LinearRegression().fit(X_train,y_train)\n",
    "\n",
    "print(\"Training set score: {:.2f}\".format(lr.score(X_train,y_train)))\n",
    "print(\"Test set score: {:.2f}\".format(lr.score(X_test,y_test)))"
   ]
  }
 ],
 "metadata": {
  "kernelspec": {
   "display_name": "Python 3",
   "language": "python",
   "name": "python3"
  },
  "language_info": {
   "codemirror_mode": {
    "name": "ipython",
    "version": 3
   },
   "file_extension": ".py",
   "mimetype": "text/x-python",
   "name": "python",
   "nbconvert_exporter": "python",
   "pygments_lexer": "ipython3",
   "version": "3.9.0"
  }
 },
 "nbformat": 4,
 "nbformat_minor": 1
}
