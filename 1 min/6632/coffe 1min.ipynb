{
 "cells": [
  {
   "cell_type": "code",
   "execution_count": 2,
   "metadata": {
    "pycharm": {
     "name": "#%%\n"
    }
   },
   "outputs": [],
   "source": [
    "%reset\n",
    "import numpy as np\n",
    "import pandas as pd\n",
    "import pickle\n",
    "from sktime.forecasting.base import ForecastingHorizon\n",
    "from sktime.forecasting.naive import NaiveForecaster\n",
    "from sktime.forecasting.model_selection import temporal_train_test_split\n",
    "from sktime.utils.plotting import  plot_series\n",
    "from sktime.performance_metrics.forecasting import MeanAbsolutePercentageError"
   ]
  },
  {
   "cell_type": "code",
   "execution_count": 2,
   "metadata": {},
   "outputs": [
    {
     "name": "stderr",
     "output_type": "stream",
     "text": [
      "C:\\Users\\patrick.olislaegers\\AppData\\Local\\Programs\\Python\\Python39\\lib\\site-packages\\sktime\\registry\\_lookup.py:158: ImportWarning: No module named 'dtw'. 'dtw' is a soft dependency and not included in the sktime installation. Please run: `pip install dtw`. To install all soft dependencies, run: `pip install sktime[all_extras]`\n",
      "  warnings.warn(str(e), ImportWarning)\n",
      "C:\\Users\\patrick.olislaegers\\AppData\\Local\\Programs\\Python\\Python39\\lib\\site-packages\\sktime\\registry\\_lookup.py:158: ImportWarning: No module named 'tsfresh'. 'tsfresh' is a soft dependency and not included in the sktime installation. Please run: `pip install tsfresh`. To install all soft dependencies, run: `pip install sktime[all_extras]`\n",
      "  warnings.warn(str(e), ImportWarning)\n",
      "C:\\Users\\patrick.olislaegers\\AppData\\Local\\Programs\\Python\\Python39\\lib\\site-packages\\sktime\\registry\\_lookup.py:158: ImportWarning: No module named 'prophet'. 'prophet' is a soft dependency and not included in the sktime installation. Please run: `pip install prophet`. To install all soft dependencies, run: `pip install sktime[all_extras]`\n",
      "  warnings.warn(str(e), ImportWarning)\n",
      "C:\\Users\\patrick.olislaegers\\AppData\\Local\\Programs\\Python\\Python39\\lib\\site-packages\\sktime\\registry\\_lookup.py:158: ImportWarning: No module named 'hcrystalball'. 'hcrystalball' is a soft dependency and not included in the sktime installation. Please run: `pip install hcrystalball`. To install all soft dependencies, run: `pip install sktime[all_extras]`\n",
      "  warnings.warn(str(e), ImportWarning)\n",
      "C:\\Users\\patrick.olislaegers\\AppData\\Local\\Programs\\Python\\Python39\\lib\\site-packages\\sktime\\registry\\_lookup.py:158: ImportWarning: No module named 'esig'. 'esig' is a soft dependency and not included in the sktime installation. Please run: `pip install esig`. To install all soft dependencies, run: `pip install sktime[all_extras]`\n",
      "  warnings.warn(str(e), ImportWarning)\n",
      "C:\\Users\\patrick.olislaegers\\AppData\\Local\\Programs\\Python\\Python39\\lib\\site-packages\\sktime\\registry\\_lookup.py:158: ImportWarning: No module named 'tsfresh'. 'tsfresh' is a soft dependency and not included in the sktime installation. Please run: `pip install tsfresh`. To install all soft dependencies, run: `pip install sktime[all_extras]`\n",
      "  warnings.warn(str(e), ImportWarning)\n",
      "C:\\Users\\patrick.olislaegers\\AppData\\Local\\Programs\\Python\\Python39\\lib\\site-packages\\sktime\\registry\\_lookup.py:158: ImportWarning: No module named 'stumpy'. 'stumpy' is a soft dependency and not included in the sktime installation. Please run: `pip install stumpy`. To install all soft dependencies, run: `pip install sktime[all_extras]`\n",
      "  warnings.warn(str(e), ImportWarning)\n"
     ]
    },
    {
     "data": {
      "text/html": [
       "<div>\n",
       "<style scoped>\n",
       "    .dataframe tbody tr th:only-of-type {\n",
       "        vertical-align: middle;\n",
       "    }\n",
       "\n",
       "    .dataframe tbody tr th {\n",
       "        vertical-align: top;\n",
       "    }\n",
       "\n",
       "    .dataframe thead th {\n",
       "        text-align: right;\n",
       "    }\n",
       "</style>\n",
       "<table border=\"1\" class=\"dataframe\">\n",
       "  <thead>\n",
       "    <tr style=\"text-align: right;\">\n",
       "      <th></th>\n",
       "      <th>name</th>\n",
       "      <th>estimator</th>\n",
       "    </tr>\n",
       "  </thead>\n",
       "  <tbody>\n",
       "    <tr>\n",
       "      <th>0</th>\n",
       "      <td>ARIMA</td>\n",
       "      <td>&lt;class 'sktime.forecasting.arima.ARIMA'&gt;</td>\n",
       "    </tr>\n",
       "    <tr>\n",
       "      <th>1</th>\n",
       "      <td>AutoARIMA</td>\n",
       "      <td>&lt;class 'sktime.forecasting.arima.AutoARIMA'&gt;</td>\n",
       "    </tr>\n",
       "    <tr>\n",
       "      <th>2</th>\n",
       "      <td>AutoETS</td>\n",
       "      <td>&lt;class 'sktime.forecasting.ets.AutoETS'&gt;</td>\n",
       "    </tr>\n",
       "    <tr>\n",
       "      <th>3</th>\n",
       "      <td>AutoEnsembleForecaster</td>\n",
       "      <td>&lt;class 'sktime.forecasting.compose._ensemble.A...</td>\n",
       "    </tr>\n",
       "    <tr>\n",
       "      <th>4</th>\n",
       "      <td>BATS</td>\n",
       "      <td>&lt;class 'sktime.forecasting.bats.BATS'&gt;</td>\n",
       "    </tr>\n",
       "    <tr>\n",
       "      <th>5</th>\n",
       "      <td>ColumnEnsembleForecaster</td>\n",
       "      <td>&lt;class 'sktime.forecasting.compose._column_ens...</td>\n",
       "    </tr>\n",
       "    <tr>\n",
       "      <th>6</th>\n",
       "      <td>Croston</td>\n",
       "      <td>&lt;class 'sktime.forecasting.croston.Croston'&gt;</td>\n",
       "    </tr>\n",
       "    <tr>\n",
       "      <th>7</th>\n",
       "      <td>DirRecTabularRegressionForecaster</td>\n",
       "      <td>&lt;class 'sktime.forecasting.compose._reduce.Dir...</td>\n",
       "    </tr>\n",
       "    <tr>\n",
       "      <th>8</th>\n",
       "      <td>DirRecTimeSeriesRegressionForecaster</td>\n",
       "      <td>&lt;class 'sktime.forecasting.compose._reduce.Dir...</td>\n",
       "    </tr>\n",
       "    <tr>\n",
       "      <th>9</th>\n",
       "      <td>DirectTabularRegressionForecaster</td>\n",
       "      <td>&lt;class 'sktime.forecasting.compose._reduce.Dir...</td>\n",
       "    </tr>\n",
       "    <tr>\n",
       "      <th>10</th>\n",
       "      <td>DirectTimeSeriesRegressionForecaster</td>\n",
       "      <td>&lt;class 'sktime.forecasting.compose._reduce.Dir...</td>\n",
       "    </tr>\n",
       "    <tr>\n",
       "      <th>11</th>\n",
       "      <td>EnsembleForecaster</td>\n",
       "      <td>&lt;class 'sktime.forecasting.compose._ensemble.E...</td>\n",
       "    </tr>\n",
       "    <tr>\n",
       "      <th>12</th>\n",
       "      <td>ExponentialSmoothing</td>\n",
       "      <td>&lt;class 'sktime.forecasting.exp_smoothing.Expon...</td>\n",
       "    </tr>\n",
       "    <tr>\n",
       "      <th>13</th>\n",
       "      <td>ForecastingGridSearchCV</td>\n",
       "      <td>&lt;class 'sktime.forecasting.model_selection._tu...</td>\n",
       "    </tr>\n",
       "    <tr>\n",
       "      <th>14</th>\n",
       "      <td>ForecastingPipeline</td>\n",
       "      <td>&lt;class 'sktime.forecasting.compose._pipeline.F...</td>\n",
       "    </tr>\n",
       "    <tr>\n",
       "      <th>15</th>\n",
       "      <td>ForecastingRandomizedSearchCV</td>\n",
       "      <td>&lt;class 'sktime.forecasting.model_selection._tu...</td>\n",
       "    </tr>\n",
       "    <tr>\n",
       "      <th>16</th>\n",
       "      <td>MultioutputTabularRegressionForecaster</td>\n",
       "      <td>&lt;class 'sktime.forecasting.compose._reduce.Mul...</td>\n",
       "    </tr>\n",
       "    <tr>\n",
       "      <th>17</th>\n",
       "      <td>MultioutputTimeSeriesRegressionForecaster</td>\n",
       "      <td>&lt;class 'sktime.forecasting.compose._reduce.Mul...</td>\n",
       "    </tr>\n",
       "    <tr>\n",
       "      <th>18</th>\n",
       "      <td>MultiplexForecaster</td>\n",
       "      <td>&lt;class 'sktime.forecasting.compose._multiplexe...</td>\n",
       "    </tr>\n",
       "    <tr>\n",
       "      <th>19</th>\n",
       "      <td>NaiveForecaster</td>\n",
       "      <td>&lt;class 'sktime.forecasting.naive.NaiveForecast...</td>\n",
       "    </tr>\n",
       "    <tr>\n",
       "      <th>20</th>\n",
       "      <td>OnlineEnsembleForecaster</td>\n",
       "      <td>&lt;class 'sktime.forecasting.online_learning._on...</td>\n",
       "    </tr>\n",
       "    <tr>\n",
       "      <th>21</th>\n",
       "      <td>PolynomialTrendForecaster</td>\n",
       "      <td>&lt;class 'sktime.forecasting.trend.PolynomialTre...</td>\n",
       "    </tr>\n",
       "    <tr>\n",
       "      <th>22</th>\n",
       "      <td>RecursiveTabularRegressionForecaster</td>\n",
       "      <td>&lt;class 'sktime.forecasting.compose._reduce.Rec...</td>\n",
       "    </tr>\n",
       "    <tr>\n",
       "      <th>23</th>\n",
       "      <td>RecursiveTimeSeriesRegressionForecaster</td>\n",
       "      <td>&lt;class 'sktime.forecasting.compose._reduce.Rec...</td>\n",
       "    </tr>\n",
       "    <tr>\n",
       "      <th>24</th>\n",
       "      <td>STLForecaster</td>\n",
       "      <td>&lt;class 'sktime.forecasting.trend.STLForecaster'&gt;</td>\n",
       "    </tr>\n",
       "    <tr>\n",
       "      <th>25</th>\n",
       "      <td>StackingForecaster</td>\n",
       "      <td>&lt;class 'sktime.forecasting.compose._stack.Stac...</td>\n",
       "    </tr>\n",
       "    <tr>\n",
       "      <th>26</th>\n",
       "      <td>TBATS</td>\n",
       "      <td>&lt;class 'sktime.forecasting.tbats.TBATS'&gt;</td>\n",
       "    </tr>\n",
       "    <tr>\n",
       "      <th>27</th>\n",
       "      <td>ThetaForecaster</td>\n",
       "      <td>&lt;class 'sktime.forecasting.theta.ThetaForecast...</td>\n",
       "    </tr>\n",
       "    <tr>\n",
       "      <th>28</th>\n",
       "      <td>TransformedTargetForecaster</td>\n",
       "      <td>&lt;class 'sktime.forecasting.compose._pipeline.T...</td>\n",
       "    </tr>\n",
       "    <tr>\n",
       "      <th>29</th>\n",
       "      <td>TrendForecaster</td>\n",
       "      <td>&lt;class 'sktime.forecasting.trend.TrendForecast...</td>\n",
       "    </tr>\n",
       "    <tr>\n",
       "      <th>30</th>\n",
       "      <td>UnobservedComponents</td>\n",
       "      <td>&lt;class 'sktime.forecasting.structural.Unobserv...</td>\n",
       "    </tr>\n",
       "    <tr>\n",
       "      <th>31</th>\n",
       "      <td>VAR</td>\n",
       "      <td>&lt;class 'sktime.forecasting.var.VAR'&gt;</td>\n",
       "    </tr>\n",
       "  </tbody>\n",
       "</table>\n",
       "</div>"
      ],
      "text/plain": [
       "                                         name  \\\n",
       "0                                       ARIMA   \n",
       "1                                   AutoARIMA   \n",
       "2                                     AutoETS   \n",
       "3                      AutoEnsembleForecaster   \n",
       "4                                        BATS   \n",
       "5                    ColumnEnsembleForecaster   \n",
       "6                                     Croston   \n",
       "7           DirRecTabularRegressionForecaster   \n",
       "8        DirRecTimeSeriesRegressionForecaster   \n",
       "9           DirectTabularRegressionForecaster   \n",
       "10       DirectTimeSeriesRegressionForecaster   \n",
       "11                         EnsembleForecaster   \n",
       "12                       ExponentialSmoothing   \n",
       "13                    ForecastingGridSearchCV   \n",
       "14                        ForecastingPipeline   \n",
       "15              ForecastingRandomizedSearchCV   \n",
       "16     MultioutputTabularRegressionForecaster   \n",
       "17  MultioutputTimeSeriesRegressionForecaster   \n",
       "18                        MultiplexForecaster   \n",
       "19                            NaiveForecaster   \n",
       "20                   OnlineEnsembleForecaster   \n",
       "21                  PolynomialTrendForecaster   \n",
       "22       RecursiveTabularRegressionForecaster   \n",
       "23    RecursiveTimeSeriesRegressionForecaster   \n",
       "24                              STLForecaster   \n",
       "25                         StackingForecaster   \n",
       "26                                      TBATS   \n",
       "27                            ThetaForecaster   \n",
       "28                TransformedTargetForecaster   \n",
       "29                            TrendForecaster   \n",
       "30                       UnobservedComponents   \n",
       "31                                        VAR   \n",
       "\n",
       "                                            estimator  \n",
       "0            <class 'sktime.forecasting.arima.ARIMA'>  \n",
       "1        <class 'sktime.forecasting.arima.AutoARIMA'>  \n",
       "2            <class 'sktime.forecasting.ets.AutoETS'>  \n",
       "3   <class 'sktime.forecasting.compose._ensemble.A...  \n",
       "4              <class 'sktime.forecasting.bats.BATS'>  \n",
       "5   <class 'sktime.forecasting.compose._column_ens...  \n",
       "6        <class 'sktime.forecasting.croston.Croston'>  \n",
       "7   <class 'sktime.forecasting.compose._reduce.Dir...  \n",
       "8   <class 'sktime.forecasting.compose._reduce.Dir...  \n",
       "9   <class 'sktime.forecasting.compose._reduce.Dir...  \n",
       "10  <class 'sktime.forecasting.compose._reduce.Dir...  \n",
       "11  <class 'sktime.forecasting.compose._ensemble.E...  \n",
       "12  <class 'sktime.forecasting.exp_smoothing.Expon...  \n",
       "13  <class 'sktime.forecasting.model_selection._tu...  \n",
       "14  <class 'sktime.forecasting.compose._pipeline.F...  \n",
       "15  <class 'sktime.forecasting.model_selection._tu...  \n",
       "16  <class 'sktime.forecasting.compose._reduce.Mul...  \n",
       "17  <class 'sktime.forecasting.compose._reduce.Mul...  \n",
       "18  <class 'sktime.forecasting.compose._multiplexe...  \n",
       "19  <class 'sktime.forecasting.naive.NaiveForecast...  \n",
       "20  <class 'sktime.forecasting.online_learning._on...  \n",
       "21  <class 'sktime.forecasting.trend.PolynomialTre...  \n",
       "22  <class 'sktime.forecasting.compose._reduce.Rec...  \n",
       "23  <class 'sktime.forecasting.compose._reduce.Rec...  \n",
       "24   <class 'sktime.forecasting.trend.STLForecaster'>  \n",
       "25  <class 'sktime.forecasting.compose._stack.Stac...  \n",
       "26           <class 'sktime.forecasting.tbats.TBATS'>  \n",
       "27  <class 'sktime.forecasting.theta.ThetaForecast...  \n",
       "28  <class 'sktime.forecasting.compose._pipeline.T...  \n",
       "29  <class 'sktime.forecasting.trend.TrendForecast...  \n",
       "30  <class 'sktime.forecasting.structural.Unobserv...  \n",
       "31               <class 'sktime.forecasting.var.VAR'>  "
      ]
     },
     "execution_count": 2,
     "metadata": {},
     "output_type": "execute_result"
    }
   ],
   "source": [
    "from sktime.registry import all_estimators\n",
    "import pandas as pd\n",
    "# all_estimators returns list of pairs - data frame conversion for pretty printing\n",
    "all_estimators(\"forecaster\", as_dataframe=True)"
   ]
  },
  {
   "cell_type": "code",
   "execution_count": 15,
   "metadata": {
    "pycharm": {
     "name": "#%%\n"
    }
   },
   "outputs": [
    {
     "name": "stdout",
     "output_type": "stream",
     "text": [
      "          value_id  sensor_id           timestamp  value\n",
      "0        1913482.0       6632 2020-03-23 19:17:00      0\n",
      "1        1913838.0       6632 2020-03-23 19:18:00      0\n",
      "2        1914204.0       6632 2020-03-23 19:19:00      0\n",
      "3        1914546.0       6632 2020-03-23 19:19:59      0\n",
      "4        1914891.0       6632 2020-03-23 19:21:00      0\n",
      "...            ...        ...                 ...    ...\n",
      "185984  64043112.0       6632 2020-08-26 09:56:00      0\n",
      "185985  64043331.0       6632 2020-08-26 09:56:59      0\n",
      "185986  64043554.0       6632 2020-08-26 09:58:00      0\n",
      "185987  64043778.0       6632 2020-08-26 09:59:00      0\n",
      "185988  64044004.0       6632 2020-08-26 10:00:00      0\n",
      "\n",
      "[185989 rows x 4 columns]\n"
     ]
    },
    {
     "data": {
      "text/html": [
       "<div>\n",
       "<style scoped>\n",
       "    .dataframe tbody tr th:only-of-type {\n",
       "        vertical-align: middle;\n",
       "    }\n",
       "\n",
       "    .dataframe tbody tr th {\n",
       "        vertical-align: top;\n",
       "    }\n",
       "\n",
       "    .dataframe thead th {\n",
       "        text-align: right;\n",
       "    }\n",
       "</style>\n",
       "<table border=\"1\" class=\"dataframe\">\n",
       "  <thead>\n",
       "    <tr style=\"text-align: right;\">\n",
       "      <th></th>\n",
       "      <th>value</th>\n",
       "    </tr>\n",
       "    <tr>\n",
       "      <th>timestamp</th>\n",
       "      <th></th>\n",
       "    </tr>\n",
       "  </thead>\n",
       "  <tbody>\n",
       "    <tr>\n",
       "      <th>2020-03-24 12:25:00</th>\n",
       "      <td>1229.0</td>\n",
       "    </tr>\n",
       "    <tr>\n",
       "      <th>2020-03-24 13:36:00</th>\n",
       "      <td>1076.0</td>\n",
       "    </tr>\n",
       "    <tr>\n",
       "      <th>2020-03-25 11:47:00</th>\n",
       "      <td>1175.0</td>\n",
       "    </tr>\n",
       "    <tr>\n",
       "      <th>2020-03-25 11:48:00</th>\n",
       "      <td>418.0</td>\n",
       "    </tr>\n",
       "    <tr>\n",
       "      <th>2020-03-25 11:49:00</th>\n",
       "      <td>418.0</td>\n",
       "    </tr>\n",
       "    <tr>\n",
       "      <th>...</th>\n",
       "      <td>...</td>\n",
       "    </tr>\n",
       "    <tr>\n",
       "      <th>2020-08-15 09:16:00</th>\n",
       "      <td>975.0</td>\n",
       "    </tr>\n",
       "    <tr>\n",
       "      <th>2020-08-23 17:26:00</th>\n",
       "      <td>1178.0</td>\n",
       "    </tr>\n",
       "    <tr>\n",
       "      <th>2020-08-23 17:27:00</th>\n",
       "      <td>1178.0</td>\n",
       "    </tr>\n",
       "    <tr>\n",
       "      <th>2020-08-25 08:25:00</th>\n",
       "      <td>1178.0</td>\n",
       "    </tr>\n",
       "    <tr>\n",
       "      <th>2020-08-25 08:26:00</th>\n",
       "      <td>1178.0</td>\n",
       "    </tr>\n",
       "  </tbody>\n",
       "</table>\n",
       "<p>5983 rows × 1 columns</p>\n",
       "</div>"
      ],
      "text/plain": [
       "                      value\n",
       "timestamp                  \n",
       "2020-03-24 12:25:00  1229.0\n",
       "2020-03-24 13:36:00  1076.0\n",
       "2020-03-25 11:47:00  1175.0\n",
       "2020-03-25 11:48:00   418.0\n",
       "2020-03-25 11:49:00   418.0\n",
       "...                     ...\n",
       "2020-08-15 09:16:00   975.0\n",
       "2020-08-23 17:26:00  1178.0\n",
       "2020-08-23 17:27:00  1178.0\n",
       "2020-08-25 08:25:00  1178.0\n",
       "2020-08-25 08:26:00  1178.0\n",
       "\n",
       "[5983 rows x 1 columns]"
      ]
     },
     "execution_count": 15,
     "metadata": {},
     "output_type": "execute_result"
    }
   ],
   "source": [
    "#Ouvre le fichier CSV du capteur dont les données sont issues\n",
    "df = pd.read_csv(\"human_activity_raw_sensor_data_float6632.csv\", sep=',', header=0, names=[\"value_id\", \"sensor_id\", \"timestamp\", \"value\"])\n",
    "\n",
    "#Transtypage des colonnes\n",
    "df['timestamp'] = pd.to_datetime(df['timestamp'], format='%Y-%m-%d %H:%M:%S')\n",
    "df['value'] = df['value'].astype('int64')\n",
    "\n",
    "print(df)\n",
    "\n",
    "#Selection de la plage de dates à extraire du dataset\n",
    "df = df[(df['timestamp'] > '2020-05-23') & (df['timestamp'] <= '2020-06-26')]\n",
    "df = df.set_index('timestamp').asfreq('1min')\n",
    "df.fillna(method='ffill', inplace=True)\n",
    "\n",
    "#Suppression des colonnes inutiles pour l'apprentissage\n",
    "df = df.drop(columns=[\"sensor_id\",\"value_id\"])\n",
    "df\n",
    "\n",
    "df['value'].max()\n",
    "\n",
    "df.drop(df.loc[df['value']<(1/4)*1260.0].index, inplace=True)\n",
    "df"
   ]
  },
  {
   "cell_type": "code",
   "execution_count": 16,
   "metadata": {
    "collapsed": false,
    "pycharm": {
     "name": "#%%\n"
    }
   },
   "outputs": [
    {
     "data": {
      "image/png": "[encoded data removed]",
      "text/plain": [
       "<Figure size 1152x288 with 1 Axes>"
      ]
     },
     "metadata": {
      "needs_background": "light"
     },
     "output_type": "display_data"
    }
   ],
   "source": [
    "# Slipt test/train des données\n",
    "y_train, y_test = temporal_train_test_split(df, test_size=1/3)\n",
    "plot_series(y_train, y_test, labels=[\"y_train\", \"y_test\"]);"
   ]
  },
  {
   "cell_type": "code",
   "execution_count": 14,
   "metadata": {
    "collapsed": false,
    "pycharm": {
     "name": "#%%\n"
    }
   },
   "outputs": [
    {
     "name": "stdout",
     "output_type": "stream",
     "text": [
      "                     value\n",
      "2020-03-23 19:17:00    0.0\n",
      "2020-03-23 19:18:00    0.0\n",
      "2020-03-23 19:19:00    0.0\n",
      "2020-03-23 19:20:00    0.0\n",
      "2020-03-23 19:21:00    0.0\n",
      "...                    ...\n",
      "2020-07-05 06:21:00    0.0\n",
      "2020-07-05 06:22:00    0.0\n",
      "2020-07-05 06:23:00    0.0\n",
      "2020-07-05 06:24:00    0.0\n",
      "2020-07-05 06:25:00    0.0\n",
      "\n",
      "[148989 rows x 1 columns]\n"
     ]
    },
    {
     "name": "stderr",
     "output_type": "stream",
     "text": [
      "C:\\Users\\patrick.olislaegers\\AppData\\Local\\Programs\\Python\\Python39\\lib\\site-packages\\sktime\\forecasting\\base\\_fh.py:533: FutureWarning: Timestamp.freqstr is deprecated and will be removed in a future version.\n",
      "  if not hasattr(cutoff, \"freqstr\") or cutoff.freqstr is None:\n",
      "C:\\Users\\patrick.olislaegers\\AppData\\Local\\Programs\\Python\\Python39\\lib\\site-packages\\sktime\\forecasting\\base\\_fh.py:543: FutureWarning: Timestamp.freqstr is deprecated and will be removed in a future version.\n",
      "  assert cutoff.freqstr == index.freqstr\n",
      "C:\\Users\\patrick.olislaegers\\AppData\\Local\\Programs\\Python\\Python39\\lib\\site-packages\\sktime\\utils\\datetime.py:77: FutureWarning: Timestamp.freqstr is deprecated and will be removed in a future version.\n",
      "  if hasattr(x, \"freqstr\"):\n",
      "C:\\Users\\patrick.olislaegers\\AppData\\Local\\Programs\\Python\\Python39\\lib\\site-packages\\sktime\\utils\\datetime.py:78: FutureWarning: Timestamp.freqstr is deprecated and will be removed in a future version.\n",
      "  if x.freqstr is None:\n",
      "C:\\Users\\patrick.olislaegers\\AppData\\Local\\Programs\\Python\\Python39\\lib\\site-packages\\sktime\\utils\\datetime.py:80: FutureWarning: Timestamp.freqstr is deprecated and will be removed in a future version.\n",
      "  elif \"-\" in x.freqstr:\n",
      "C:\\Users\\patrick.olislaegers\\AppData\\Local\\Programs\\Python\\Python39\\lib\\site-packages\\sktime\\utils\\datetime.py:83: FutureWarning: Timestamp.freqstr is deprecated and will be removed in a future version.\n",
      "  return x.freqstr\n",
      "C:\\Users\\patrick.olislaegers\\AppData\\Local\\Programs\\Python\\Python39\\lib\\site-packages\\sktime\\utils\\datetime.py:105: FutureWarning: Timestamp.freq is deprecated and will be removed in a future version\n",
      "  if not hasattr(x, \"freq\") or x.freq is None:\n",
      "C:\\Users\\patrick.olislaegers\\AppData\\Local\\Programs\\Python\\Python39\\lib\\site-packages\\sktime\\utils\\datetime.py:107: FutureWarning: Timestamp.freq is deprecated and will be removed in a future version\n",
      "  by *= x.freq\n"
     ]
    },
    {
     "name": "stdout",
     "output_type": "stream",
     "text": [
      "                     value\n",
      "2020-07-05 06:26:00    0.0\n",
      "2020-07-05 06:27:00    0.0\n",
      "2020-07-05 06:28:00    0.0\n",
      "2020-07-05 06:29:00    0.0\n",
      "2020-07-05 06:30:00    0.0\n",
      "2020-07-05 06:31:00    0.0\n",
      "2020-07-05 06:32:00    0.0\n",
      "2020-07-05 06:33:00    0.0\n",
      "2020-07-05 06:34:00    0.0\n",
      "2020-07-05 06:35:00    0.0\n",
      "5323672504010281.0\n"
     ]
    },
    {
     "data": {
      "image/png": "[encoded data removed]",
      "text/plain": [
       "<Figure size 1152x288 with 1 Axes>"
      ]
     },
     "metadata": {
      "needs_background": "light"
     },
     "output_type": "display_data"
    }
   ],
   "source": [
    "fh = ForecastingHorizon(y_test.index, is_relative=False)\n",
    "forecaster = NaiveForecaster(strategy=\"last\", sp=24*12*7)\n",
    "print(y_train)\n",
    "\n",
    "forecaster.fit(y_train)\n",
    "\n",
    "y_pred = forecaster.predict(fh)\n",
    "print(y_pred[:10])\n",
    "#y_pred.fillna(method='ffill', inplace=True)\n",
    "#y_pred[\"value\"] = y_pred.astype('int64')\n",
    "\n",
    "# step 3: specifying the evaluation metric\n",
    "mape = MeanAbsolutePercentageError(symmetric=False)\n",
    "\n",
    "# step 4: computing the forecast performance\n",
    "print(mape(y_test, y_pred))\n",
    "plot_series(y_train, y_test, y_pred, labels=[\"y_train\", \"y_test\", \"y_pred\"]);"
   ]
  },
  {
   "cell_type": "code",
   "execution_count": 5,
   "metadata": {
    "collapsed": false,
    "pycharm": {
     "name": "#%%\n"
    }
   },
   "outputs": [],
   "source": [
    "#Sauvegarde du modèle avec Pickle\n",
    "filename = 'model_5896_bed_pressure.pkl'\n",
    "pickle.dump(forecaster, open(filename, 'wb'))"
   ]
  },
  {
   "cell_type": "code",
   "execution_count": 14,
   "metadata": {},
   "outputs": [
    {
     "name": "stdout",
     "output_type": "stream",
     "text": [
      "                     value\n",
      "2020-03-23 19:17:00    0.0\n",
      "2020-03-23 19:18:00    0.0\n",
      "2020-03-23 19:19:00    0.0\n",
      "2020-03-23 19:20:00    0.0\n",
      "2020-03-23 19:21:00    0.0\n",
      "...                    ...\n",
      "2020-07-05 06:21:00    0.0\n",
      "2020-07-05 06:22:00    0.0\n",
      "2020-07-05 06:23:00    0.0\n",
      "2020-07-05 06:24:00    0.0\n",
      "2020-07-05 06:25:00    0.0\n",
      "\n",
      "[148989 rows x 1 columns]\n"
     ]
    },
    {
     "name": "stderr",
     "output_type": "stream",
     "text": [
      "C:\\Users\\patrick.olislaegers\\AppData\\Local\\Programs\\Python\\Python39\\lib\\site-packages\\sktime\\utils\\datetime.py:77: FutureWarning: Timestamp.freqstr is deprecated and will be removed in a future version.\n",
      "  if hasattr(x, \"freqstr\"):\n",
      "C:\\Users\\patrick.olislaegers\\AppData\\Local\\Programs\\Python\\Python39\\lib\\site-packages\\sktime\\utils\\datetime.py:78: FutureWarning: Timestamp.freqstr is deprecated and will be removed in a future version.\n",
      "  if x.freqstr is None:\n",
      "C:\\Users\\patrick.olislaegers\\AppData\\Local\\Programs\\Python\\Python39\\lib\\site-packages\\sktime\\utils\\datetime.py:80: FutureWarning: Timestamp.freqstr is deprecated and will be removed in a future version.\n",
      "  elif \"-\" in x.freqstr:\n",
      "C:\\Users\\patrick.olislaegers\\AppData\\Local\\Programs\\Python\\Python39\\lib\\site-packages\\sktime\\utils\\datetime.py:83: FutureWarning: Timestamp.freqstr is deprecated and will be removed in a future version.\n",
      "  return x.freqstr\n"
     ]
    },
    {
     "name": "stdout",
     "output_type": "stream",
     "text": [
      "                             value\n",
      "2020-07-05 06:26:00  2.256925e-168\n",
      "2020-07-05 06:27:00  2.256925e-168\n",
      "2020-07-05 06:28:00  2.256925e-168\n",
      "2020-07-05 06:29:00  2.256925e-168\n",
      "2020-07-05 06:30:00  2.256925e-168\n",
      "2020-07-05 06:31:00  2.256925e-168\n",
      "2020-07-05 06:32:00  2.256925e-168\n",
      "2020-07-05 06:33:00  2.256925e-168\n",
      "2020-07-05 06:34:00  2.256925e-168\n",
      "2020-07-05 06:35:00  2.256925e-168\n",
      "0.0004966776293710987\n"
     ]
    },
    {
     "data": {
      "image/png": "[encoded data removed]",
      "text/plain": [
       "<Figure size 1152x288 with 1 Axes>"
      ]
     },
     "metadata": {
      "needs_background": "light"
     },
     "output_type": "display_data"
    }
   ],
   "source": [
    "from sktime.forecasting.exp_smoothing import ExponentialSmoothing\n",
    "\n",
    "forecaster = ExponentialSmoothing(sp=24*7)\n",
    "\n",
    "fh = ForecastingHorizon(y_test.index, is_relative=False)\n",
    "\n",
    "print(y_train)\n",
    "\n",
    "forecaster.fit(y_train)\n",
    "\n",
    "y_pred = forecaster.predict(fh)\n",
    "print(y_pred[:10])\n",
    "#y_pred.fillna(method='ffill', inplace=True)\n",
    "#y_pred[\"value\"] = y_pred.astype('int64')\n",
    "\n",
    "# step 3: specifying the evaluation metric\n",
    "mape = MeanAbsolutePercentageError(symmetric=False)\n",
    "\n",
    "# step 4: computing the forecast performance\n",
    "print(mape(y_test, y_pred))\n",
    "plot_series(y_train, y_test, y_pred, labels=[\"y_train\", \"y_test\", \"y_pred\"]);"
   ]
  },
  {
   "cell_type": "code",
   "execution_count": 6,
   "metadata": {},
   "outputs": [],
   "source": [
    "from sktime.forecasting.model_selection import temporal_train_test_split\n",
    "from sktime.forecasting.compose import EnsembleForecaster\n",
    "from sktime.forecasting.tbats import TBATS\n",
    "from sktime.forecasting.arima import AutoARIMA\n",
    "\n",
    "ensemble = EnsembleForecaster(forecasters = [(\"tbats\", TBATS()),\n",
    "                                             (\"autoarima\", AutoARIMA())],                         \n",
    "                              aggfunc = \"min\")\n",
    "ensemble.fit(y_train)\n",
    "print(ensemble.forecasters_)"
   ]
  },
  {
   "cell_type": "code",
   "execution_count": 15,
   "metadata": {},
   "outputs": [
    {
     "name": "stdout",
     "output_type": "stream",
     "text": [
      "                     value\n",
      "2020-03-09 00:05:00    0.0\n",
      "2020-03-09 00:10:00    0.0\n",
      "2020-03-09 00:15:00    0.0\n",
      "2020-03-09 00:20:00    0.0\n",
      "2020-03-09 00:25:00    0.0\n",
      "...                    ...\n",
      "2020-03-16 23:40:00    0.0\n",
      "2020-03-16 23:45:00    0.0\n",
      "2020-03-16 23:50:00    0.0\n",
      "2020-03-16 23:55:00    0.0\n",
      "2020-03-17 00:00:00    0.0\n",
      "\n",
      "[2304 rows x 1 columns]\n",
      "                        value\n",
      "2020-03-17 00:05:00  0.000002\n",
      "2020-03-17 00:10:00  0.000002\n",
      "2020-03-17 00:15:00  0.000002\n",
      "2020-03-17 00:20:00  0.000002\n",
      "2020-03-17 00:25:00  0.000002\n",
      "2020-03-17 00:30:00  0.000002\n",
      "2020-03-17 00:35:00  0.000002\n",
      "2020-03-17 00:40:00  0.000002\n",
      "2020-03-17 00:45:00  0.000002\n",
      "2020-03-17 00:50:00  0.000002\n",
      "9079256894.405231\n"
     ]
    },
    {
     "name": "stderr",
     "output_type": "stream",
     "text": [
      "C:\\Users\\patrick.olislaegers\\AppData\\Local\\Programs\\Python\\Python39\\lib\\site-packages\\sktime\\utils\\datetime.py:77: FutureWarning: Timestamp.freqstr is deprecated and will be removed in a future version.\n",
      "  if hasattr(x, \"freqstr\"):\n",
      "C:\\Users\\patrick.olislaegers\\AppData\\Local\\Programs\\Python\\Python39\\lib\\site-packages\\sktime\\utils\\datetime.py:78: FutureWarning: Timestamp.freqstr is deprecated and will be removed in a future version.\n",
      "  if x.freqstr is None:\n",
      "C:\\Users\\patrick.olislaegers\\AppData\\Local\\Programs\\Python\\Python39\\lib\\site-packages\\sktime\\utils\\datetime.py:80: FutureWarning: Timestamp.freqstr is deprecated and will be removed in a future version.\n",
      "  elif \"-\" in x.freqstr:\n",
      "C:\\Users\\patrick.olislaegers\\AppData\\Local\\Programs\\Python\\Python39\\lib\\site-packages\\sktime\\utils\\datetime.py:83: FutureWarning: Timestamp.freqstr is deprecated and will be removed in a future version.\n",
      "  return x.freqstr\n"
     ]
    },
    {
     "data": {
      "image/png": "[encoded data removed]",
      "text/plain": [
       "<Figure size 1152x288 with 1 Axes>"
      ]
     },
     "metadata": {
      "needs_background": "light"
     },
     "output_type": "display_data"
    }
   ],
   "source": [
    "from sktime.forecasting.ets import AutoETS\n",
    "forecaster = AutoETS(sp=24*12*7)\n",
    "\n",
    "fh = ForecastingHorizon(y_test.index, is_relative=False)\n",
    "\n",
    "print(y_train)\n",
    "\n",
    "forecaster.fit(y_train)\n",
    "\n",
    "y_pred = forecaster.predict(fh)\n",
    "print(y_pred[:10])\n",
    "#y_pred.fillna(method='ffill', inplace=True)\n",
    "#y_pred[\"value\"] = y_pred.astype('int64')\n",
    "\n",
    "# step 3: specifying the evaluation metric\n",
    "mape = MeanAbsolutePercentageError(symmetric=False)\n",
    "\n",
    "# step 4: computing the forecast performance\n",
    "print(mape(y_test, y_pred))\n",
    "plot_series(y_train, y_test, y_pred, labels=[\"y_train\", \"y_test\", \"y_pred\"]);"
   ]
  },
  {
   "cell_type": "code",
   "execution_count": 16,
   "metadata": {},
   "outputs": [
    {
     "name": "stdout",
     "output_type": "stream",
     "text": [
      "                     value\n",
      "2020-03-09 00:05:00    0.0\n",
      "2020-03-09 00:10:00    0.0\n",
      "2020-03-09 00:15:00    0.0\n",
      "2020-03-09 00:20:00    0.0\n",
      "2020-03-09 00:25:00    0.0\n",
      "...                    ...\n",
      "2020-03-16 23:40:00    0.0\n",
      "2020-03-16 23:45:00    0.0\n",
      "2020-03-16 23:50:00    0.0\n",
      "2020-03-16 23:55:00    0.0\n",
      "2020-03-17 00:00:00    0.0\n",
      "\n",
      "[2304 rows x 1 columns]\n"
     ]
    }
   ],
   "source": [
    "from sktime.forecasting.bats import BATS\n",
    "forecaster = BATS(sp=24*12*7, use_trend=True, use_box_cox=False)\n",
    "\n",
    "fh = ForecastingHorizon(y_test.index, is_relative=False)\n",
    "\n",
    "print(y_train)\n",
    "\n",
    "forecaster.fit(y_train)\n",
    "\n",
    "y_pred = forecaster.predict(fh)\n",
    "print(y_pred[:10])\n",
    "#y_pred.fillna(method='ffill', inplace=True)\n",
    "#y_pred[\"value\"] = y_pred.astype('int64')\n",
    "\n",
    "# step 3: specifying the evaluation metric\n",
    "mape = MeanAbsolutePercentageError(symmetric=False)\n",
    "\n",
    "# step 4: computing the forecast performance\n",
    "print(mape(y_test, y_pred))\n",
    "plot_series(y_train, y_test, y_pred, labels=[\"y_train\", \"y_test\", \"y_pred\"]);"
   ]
  }
 ],
 "metadata": {
  "kernelspec": {
   "display_name": "Python 3",
   "language": "python",
   "name": "python3"
  },
  "language_info": {
   "codemirror_mode": {
    "name": "ipython",
    "version": 3
   },
   "file_extension": ".py",
   "mimetype": "text/x-python",
   "name": "python",
   "nbconvert_exporter": "python",
   "pygments_lexer": "ipython3",
   "version": "3.9.0"
  }
 },
 "nbformat": 4,
 "nbformat_minor": 1
}
